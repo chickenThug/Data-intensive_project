{
 "cells": [
  {
   "cell_type": "code",
   "execution_count": 23,
   "metadata": {},
   "outputs": [
    {
     "name": "stderr",
     "output_type": "stream",
     "text": [
      "23/10/05 17:18:07 WARN WindowExec: No Partition Defined for Window operation! Moving all data to a single partition, this can cause serious performance degradation.\n",
      "23/10/05 17:18:07 WARN WindowExec: No Partition Defined for Window operation! Moving all data to a single partition, this can cause serious performance degradation.\n",
      "23/10/05 17:18:07 WARN WindowExec: No Partition Defined for Window operation! Moving all data to a single partition, this can cause serious performance degradation.\n",
      "23/10/05 17:18:07 WARN WindowExec: No Partition Defined for Window operation! Moving all data to a single partition, this can cause serious performance degradation.\n",
      "23/10/05 17:18:07 WARN WindowExec: No Partition Defined for Window operation! Moving all data to a single partition, this can cause serious performance degradation.\n"
     ]
    },
    {
     "name": "stdout",
     "output_type": "stream",
     "text": [
      "+--------------------+-------------------------+\n",
      "|            End_Time|Rolling Average 3h in MWh|\n",
      "+--------------------+-------------------------+\n",
      "|01.01.2021 01:00 ...|                    140.0|\n",
      "|01.01.2021 02:00 ...|                    128.0|\n",
      "|01.01.2021 03:00 ...|                    122.0|\n",
      "|01.01.2021 04:00 ...|       112.66666666666667|\n",
      "|01.01.2021 05:00 ...|       118.66666666666667|\n",
      "|01.01.2021 06:00 ...|       136.66666666666666|\n",
      "|01.01.2021 07:00 ...|       164.66666666666666|\n",
      "|01.01.2021 08:00 ...|       173.33333333333334|\n",
      "|01.01.2021 09:00 ...|       174.66666666666666|\n",
      "|01.01.2021 10:00 ...|       167.33333333333334|\n",
      "|01.01.2021 11:00 ...|       166.66666666666666|\n",
      "|01.01.2021 12:00 ...|       167.33333333333334|\n",
      "|01.01.2021 13:00 ...|       161.66666666666666|\n",
      "|01.01.2021 14:00 ...|                    151.0|\n",
      "|01.01.2021 15:00 ...|                    135.0|\n",
      "|01.01.2021 16:00 ...|       122.66666666666667|\n",
      "|01.01.2021 17:00 ...|       120.66666666666667|\n",
      "|01.01.2021 18:00 ...|                    127.0|\n",
      "|01.01.2021 19:00 ...|       133.33333333333334|\n",
      "|01.01.2021 20:00 ...|                    132.0|\n",
      "+--------------------+-------------------------+\n",
      "only showing top 20 rows\n",
      "\n",
      "+--------------------+-------------------------+\n",
      "|            End_Time|Rolling Average 3h in MWh|\n",
      "+--------------------+-------------------------+\n",
      "|01.01.2022 01:00 ...|                   1181.0|\n",
      "|01.01.2022 02:00 ...|                   1202.0|\n",
      "|01.01.2022 03:00 ...|       1216.3333333333333|\n",
      "|01.01.2022 04:00 ...|       1243.6666666666667|\n",
      "|01.01.2022 05:00 ...|       1259.3333333333333|\n",
      "|01.01.2022 06:00 ...|       1272.3333333333333|\n",
      "|01.01.2022 07:00 ...|                   1275.0|\n",
      "|01.01.2022 08:00 ...|       1269.3333333333333|\n",
      "|01.01.2022 09:00 ...|                   1271.0|\n",
      "|01.01.2022 10:00 ...|                   1270.0|\n",
      "|01.01.2022 11:00 ...|       1260.3333333333333|\n",
      "|01.01.2022 12:00 ...|                   1206.0|\n",
      "|01.01.2022 13:00 ...|       1126.3333333333333|\n",
      "|01.01.2022 14:00 ...|                   1054.0|\n",
      "|01.01.2022 15:00 ...|                    999.0|\n",
      "|01.01.2022 16:00 ...|                    961.0|\n",
      "|01.01.2022 17:00 ...|        899.6666666666666|\n",
      "|01.01.2022 18:00 ...|        804.3333333333334|\n",
      "|01.01.2022 19:00 ...|        682.6666666666666|\n",
      "|01.01.2022 20:00 ...|                    544.0|\n",
      "+--------------------+-------------------------+\n",
      "only showing top 20 rows\n",
      "\n"
     ]
    },
    {
     "name": "stderr",
     "output_type": "stream",
     "text": [
      "23/10/05 17:18:08 WARN WindowExec: No Partition Defined for Window operation! Moving all data to a single partition, this can cause serious performance degradation.\n",
      "23/10/05 17:18:08 WARN WindowExec: No Partition Defined for Window operation! Moving all data to a single partition, this can cause serious performance degradation.\n",
      "23/10/05 17:18:08 WARN WindowExec: No Partition Defined for Window operation! Moving all data to a single partition, this can cause serious performance degradation.\n",
      "23/10/05 17:18:08 WARN WindowExec: No Partition Defined for Window operation! Moving all data to a single partition, this can cause serious performance degradation.\n",
      "23/10/05 17:18:08 WARN WindowExec: No Partition Defined for Window operation! Moving all data to a single partition, this can cause serious performance degradation.\n"
     ]
    }
   ],
   "source": [
    "from pyspark.sql import SparkSession\n",
    "from pyspark.sql.functions import avg, col\n",
    "from pyspark.sql.window import Window\n",
    "from pyspark.sql.functions import regexp_extract\n",
    "\n",
    "def rollingAverage3h(file_path):\n",
    "    df = spark.read.csv(file_path, header=True, inferSchema=True).select(\"MTU\", \"Wind Onshore  - Actual Aggregated [MW]\")\n",
    "\n",
    "    # just display the end time of the time frame\n",
    "    df_with_time = df.withColumn(\"End_Time\", regexp_extract(df[\"MTU\"], r\"(\\d{2}\\.\\d{2}\\.\\d{4} \\d{2}:\\d{2} \\(CET/CEST\\))\", 1))\n",
    "\n",
    "    # 3h sliding window average\n",
    "    windowSpec = Window.orderBy(\"End_Time\").rowsBetween(-2, 0)\n",
    "\n",
    "    df_with_avg = df_with_time.withColumn(\"Rolling Average 3h in MWh\", avg(\"Wind Onshore  - Actual Aggregated [MW]\").over(windowSpec))\n",
    "\n",
    "    df_clean = df_with_avg.select(\n",
    "        col(\"End_Time\"), \n",
    "        col(\"Rolling Average 3h in MWh\")\n",
    "    )\n",
    "    \n",
    "    return df_clean\n",
    "\n",
    "spark = SparkSession.builder.appName(\"ComputeAverageForEveryRow\").getOrCreate()\n",
    "\n",
    "df_average2021 = rollingAverage3h(\"data/production/SE1Onshore2021.csv\")\n",
    "\n",
    "df_average2021.show()\n",
    "\n",
    "df_average2022 = rollingAverage3h(\"data/production/SE1Onshore2022.csv\")\n",
    "\n",
    "df_average2022.show()\n",
    "\n"
   ]
  }
 ],
 "metadata": {
  "kernelspec": {
   "display_name": "base",
   "language": "python",
   "name": "python3"
  },
  "language_info": {
   "codemirror_mode": {
    "name": "ipython",
    "version": 3
   },
   "file_extension": ".py",
   "mimetype": "text/x-python",
   "name": "python",
   "nbconvert_exporter": "python",
   "pygments_lexer": "ipython3",
   "version": "3.11.4"
  },
  "orig_nbformat": 4
 },
 "nbformat": 4,
 "nbformat_minor": 2
}
