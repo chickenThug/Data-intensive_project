{
 "cells": [
  {
   "cell_type": "code",
   "execution_count": 1,
   "metadata": {},
   "outputs": [
    {
     "name": "stderr",
     "output_type": "stream",
     "text": [
      "23/10/07 17:35:14 WARN Utils: Your hostname, LeonsLaptop resolves to a loopback address: 127.0.1.1; using 192.168.182.132 instead (on interface wlp3s0)\n",
      "23/10/07 17:35:14 WARN Utils: Set SPARK_LOCAL_IP if you need to bind to another address\n",
      "Setting default log level to \"WARN\".\n",
      "To adjust logging level use sc.setLogLevel(newLevel). For SparkR, use setLogLevel(newLevel).\n",
      "23/10/07 17:35:15 WARN NativeCodeLoader: Unable to load native-hadoop library for your platform... using builtin-java classes where applicable\n",
      "23/10/07 17:35:23 WARN WindowExec: No Partition Defined for Window operation! Moving all data to a single partition, this can cause serious performance degradation.\n",
      "23/10/07 17:35:23 WARN WindowExec: No Partition Defined for Window operation! Moving all data to a single partition, this can cause serious performance degradation.\n",
      "23/10/07 17:35:23 WARN WindowExec: No Partition Defined for Window operation! Moving all data to a single partition, this can cause serious performance degradation.\n",
      "23/10/07 17:35:23 WARN WindowExec: No Partition Defined for Window operation! Moving all data to a single partition, this can cause serious performance degradation.\n",
      "23/10/07 17:35:23 WARN WindowExec: No Partition Defined for Window operation! Moving all data to a single partition, this can cause serious performance degradation.\n"
     ]
    },
    {
     "name": "stdout",
     "output_type": "stream",
     "text": [
      "+--------+-------------------------+\n",
      "|End_Time|Rolling Average 3h in MWh|\n",
      "+--------+-------------------------+\n",
      "|        |                    116.0|\n",
      "|        |                    113.0|\n",
      "|        |       112.66666666666667|\n",
      "|        |       118.66666666666667|\n",
      "|        |       136.66666666666666|\n",
      "|        |       164.66666666666666|\n",
      "|        |       173.33333333333334|\n",
      "|        |       174.66666666666666|\n",
      "|        |       167.33333333333334|\n",
      "|        |       166.66666666666666|\n",
      "|        |       167.33333333333334|\n",
      "|        |       161.66666666666666|\n",
      "|        |                    151.0|\n",
      "|        |                    135.0|\n",
      "|        |       122.66666666666667|\n",
      "|        |       120.66666666666667|\n",
      "|        |                    127.0|\n",
      "|        |       133.33333333333334|\n",
      "|        |                    132.0|\n",
      "|        |       124.33333333333333|\n",
      "+--------+-------------------------+\n",
      "only showing top 20 rows\n",
      "\n"
     ]
    },
    {
     "name": "stderr",
     "output_type": "stream",
     "text": [
      "23/10/07 17:35:24 WARN WindowExec: No Partition Defined for Window operation! Moving all data to a single partition, this can cause serious performance degradation.\n",
      "23/10/07 17:35:24 WARN WindowExec: No Partition Defined for Window operation! Moving all data to a single partition, this can cause serious performance degradation.\n",
      "23/10/07 17:35:24 WARN WindowExec: No Partition Defined for Window operation! Moving all data to a single partition, this can cause serious performance degradation.\n"
     ]
    },
    {
     "name": "stdout",
     "output_type": "stream",
     "text": [
      "+--------+-------------------------+\n",
      "|End_Time|Rolling Average 3h in MWh|\n",
      "+--------+-------------------------+\n",
      "|        |                   1223.0|\n",
      "|        |                   1234.0|\n",
      "|        |       1243.6666666666667|\n",
      "|        |       1259.3333333333333|\n",
      "|        |       1272.3333333333333|\n",
      "|        |                   1275.0|\n",
      "|        |       1269.3333333333333|\n",
      "|        |                   1271.0|\n",
      "|        |                   1270.0|\n",
      "|        |       1260.3333333333333|\n",
      "|        |                   1206.0|\n",
      "|        |       1126.3333333333333|\n",
      "|        |                   1054.0|\n",
      "|        |                    999.0|\n",
      "|        |                    961.0|\n",
      "|        |        899.6666666666666|\n",
      "|        |        804.3333333333334|\n",
      "|        |        682.6666666666666|\n",
      "|        |                    544.0|\n",
      "|        |        411.6666666666667|\n",
      "+--------+-------------------------+\n",
      "only showing top 20 rows\n",
      "\n"
     ]
    },
    {
     "name": "stderr",
     "output_type": "stream",
     "text": [
      "23/10/07 17:35:25 WARN WindowExec: No Partition Defined for Window operation! Moving all data to a single partition, this can cause serious performance degradation.\n",
      "23/10/07 17:35:25 WARN WindowExec: No Partition Defined for Window operation! Moving all data to a single partition, this can cause serious performance degradation.\n"
     ]
    }
   ],
   "source": [
    "from pyspark.sql import SparkSession\n",
    "from pyspark.sql.functions import avg, col\n",
    "from pyspark.sql.window import Window\n",
    "from pyspark.sql.functions import regexp_extract\n",
    "\n",
    "def rollingAverage3h(file_path):\n",
    "    df = spark.read.csv(file_path, header=True, inferSchema=True).select(\"MTU\", \"Wind Onshore  - Actual Aggregated [MW]\")\n",
    "\n",
    "    # just display the end time of the time frame\n",
    "    df_with_time = df.withColumn(\"End_Time\", regexp_extract(df[\"MTU\"], r\"(\\d{2}\\.\\d{2}\\.\\d{4} \\d{2}:\\d{2} \\(CET/CEST\\))\", 1))\n",
    "\n",
    "    # 3h sliding window average\n",
    "    windowSpec = Window.orderBy(\"End_Time\").rowsBetween(-2, 0)\n",
    "\n",
    "    df_with_avg = df_with_time.withColumn(\"Rolling Average 3h in MWh\", avg(\"Wind Onshore  - Actual Aggregated [MW]\").over(windowSpec))\n",
    "\n",
    "    df_clean = df_with_avg.select(\n",
    "        col(\"End_Time\"), \n",
    "        col(\"Rolling Average 3h in MWh\")\n",
    "    )\n",
    "    \n",
    "    return df_clean\n",
    "\n",
    "spark = SparkSession.builder.appName(\"ComputeAverageForEveryRow\").getOrCreate()\n",
    "\n",
    "df_average2021 = rollingAverage3h(\"data/production/SE1Onshore2021UTC.csv\")\n",
    "\n",
    "df_average2021.show()\n",
    "\n",
    "df_average2022 = rollingAverage3h(\"data/production/SE1Onshore2022UTC.csv\")\n",
    "\n",
    "df_average2022.show()\n",
    "\n"
   ]
  }
 ],
 "metadata": {
  "kernelspec": {
   "display_name": "base",
   "language": "python",
   "name": "python3"
  },
  "language_info": {
   "codemirror_mode": {
    "name": "ipython",
    "version": 3
   },
   "file_extension": ".py",
   "mimetype": "text/x-python",
   "name": "python",
   "nbconvert_exporter": "python",
   "pygments_lexer": "ipython3",
   "version": "3.11.4"
  },
  "orig_nbformat": 4
 },
 "nbformat": 4,
 "nbformat_minor": 2
}
