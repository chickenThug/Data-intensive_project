{
 "cells": [
  {
   "cell_type": "markdown",
   "metadata": {},
   "source": [
    "### Read data and import necessary libraries and functions"
   ]
  },
  {
   "cell_type": "code",
   "execution_count": 138,
   "metadata": {},
   "outputs": [
    {
     "name": "stdout",
     "output_type": "stream",
     "text": [
      "+------+---------------+-------+--------+--------+-----+\n",
      "|    Id|           Namn|Latitud|Longitud|Höjd (m)|Aktiv|\n",
      "+------+---------------+-------+--------+--------+-----+\n",
      "|154860|Abelvattnet Aut|  65.53|   14.97|   665.0|  Nej|\n",
      "|188790|     Abisko Aut|68.3538| 18.8164| 392.303|   Ja|\n",
      "|158990|         Abraur|65.9857| 18.9195| 368.079|  Nej|\n",
      "| 97280|       Adelsö A|59.3579| 17.5213|   5.612|   Ja|\n",
      "|117330|            Agö|  61.55| 17.4666|    20.0|  Nej|\n",
      "+------+---------------+-------+--------+--------+-----+\n",
      "only showing top 5 rows\n",
      "\n",
      "+--------------+----------+-------------------+-------------------+--------------------+-----------+--------------+----+---------------+------------+------+--------------------------+-----------------------+-----------------+---------------------+----------+-------------+----------+-----------+-----------+------------+-------------+-----------+-----------------+--------------+----------------------------+------------+--------------+--------------------+----------+-----------+--------+------+-------------+\n",
      "|       Verk-ID|Områdes-ID|Projekteringsområde|Organisationsnummer|  Verksamhetsutövare|     Status|  Handlingstyp| DNR|Inlämningsdatum|Beslutsdatum|Utfall|Överklagan inlämningsdatum|Överklagan beslutsdatum|Överklagan utfall|Återkallat av sökande|Laga kraft|Nätkoncession| Placering|N-Koordinat|E-Koordinat|Markhöjd (m)|Totalhöjd (m)|Navhöjd (m)|Rotordiameter (m)|Maxeffekt (MW)|Beräknad årsproduktion (GWh)|      Kommun|           Län|            Elområde|   Uppfört|Nedmonterat|Fabrikat|Modell|Senast sparad|\n",
      "+--------------+----------+-------------------+-------------------+--------------------+-----------+--------------+----+---------------+------------+------+--------------------------+-----------------------+-----------------+---------------------+----------+-------------+----------+-----------+-----------+------------+-------------+-----------+-----------------+--------------+----------------------------+------------+--------------+--------------------+----------+-----------+--------+------+-------------+\n",
      "|0117-V-004-001|0117-V-004|             Östanå|        999999-9999|Projektör ej regi...|    Uppfört|Uppgift saknas|NULL|           NULL|        NULL|  NULL|                      NULL|                   NULL|             NULL|                 NULL|      NULL|         NULL|Land      |  6608791.7|   704443.5|       20.72|           39|         30|               17|          0.09|                         0.1|   Österåker|Stockholms län|Stockholm           |2009-12-23|       NULL|    NULL|  NULL|         NULL|\n",
      "|0136-V-001-001|0136-V-001|                Utö|        556794-5935|       Lärbro SPW AB|Nedmonterat|Uppgift saknas|NULL|           NULL|        NULL|  NULL|                      NULL|                   NULL|             NULL|                 NULL|      NULL|         NULL|      Land| 6539904.29|  686876.11|        6.42|         NULL|         30|               27|          0.22|                        0.49|     Haninge|Stockholms län|Stockholm           |1992-10-01|       2015|  Vestas|  VE27|   2023-04-21|\n",
      "|0139-V-001-001|0139-V-001|    Nyborg Ryggåsen|        999999-9999|Projektör ej regi...|    Uppfört|Uppgift saknas|NULL|           NULL|        NULL|  NULL|                      NULL|                   NULL|             NULL|                 NULL|      NULL|         NULL|      Land| 6613404.83|   643468.1|       16.42|         NULL|       NULL|             NULL|          NULL|                        NULL|Upplands-Bro|Stockholms län|Stockholm           |1899-12-31|       NULL|    NULL|  NULL|   2019-02-15|\n",
      "|0181-V-001-001|0181-V-001|               NULL|        556558-1757|        Telge Nät AB|Nedmonterat|Uppgift saknas|NULL|           NULL|        NULL|  NULL|                      NULL|                   NULL|             NULL|                 NULL|      NULL|         NULL|      Land| 6540302.39|  655971.17|       34.52|         NULL|       NULL|             NULL|          NULL|                        NULL|  Södertälje|Stockholms län|Stockholm           |1899-12-31|       2015|    NULL|  NULL|   2023-04-21|\n",
      "|0188-V-001-001|0188-V-001|             Björkö|        556558-1757|        Telge Nät AB|    Uppfört|Uppgift saknas|NULL|           NULL|        NULL|  NULL|                      NULL|                   NULL|             NULL|                 NULL|      NULL|         NULL|      Land| 6647483.43|  719672.78|       16.34|           99|         73|               52|          0.85|                         1.6|   Norrtälje|Stockholms län|Stockholm           |2011-03-11|       NULL| Enercon|   E52|   2019-02-25|\n",
      "+--------------+----------+-------------------+-------------------+--------------------+-----------+--------------+----+---------------+------------+------+--------------------------+-----------------------+-----------------+---------------------+----------+-------------+----------+-----------+-----------+------------+-------------+-----------+-----------------+--------------+----------------------------+------------+--------------+--------------------+----------+-----------+--------+------+-------------+\n",
      "only showing top 5 rows\n",
      "\n"
     ]
    }
   ],
   "source": [
    "# Import necessary functionality\n",
    "from pyspark.sql import SparkSession\n",
    "from pyspark.sql.functions import col, regexp_replace, udf, cos, radians, sin, sqrt, atan2, year, concat, substring, lit\n",
    "from pyspark.sql.types import FloatType\n",
    "import math\n",
    "import os\n",
    "\n",
    "# Create a SparkSession\n",
    "spark = SparkSession.builder.appName(\"WindEnergy\").getOrCreate()\n",
    "\n",
    "# Read wind core sites data\n",
    "df = spark.read.option(\"sep\", \";\").csv(\"data/metobs_wind_core_sites.csv\", header=True, inferSchema=True)\n",
    "\n",
    "# Read wind turbine data\n",
    "df_2 = spark.read.option(\"sep\", \",\").csv(\"data/VBK_export_allman_prod - Vindkraftverk.csv\", header=True, inferSchema=True)\n",
    "\n",
    "df.show(n=5)\n",
    "df_2.show(n=5)\n"
   ]
  },
  {
   "cell_type": "markdown",
   "metadata": {},
   "source": [
    "### Define helper functions"
   ]
  },
  {
   "cell_type": "code",
   "execution_count": 139,
   "metadata": {},
   "outputs": [],
   "source": [
    "# Function for transformation sweref99 tm to longitude and latitude coordinates\n",
    "def sweref99_to_latlon(E, N):\n",
    "    # Constants for SWEREF99 TM projection\n",
    "    E0 = 500000  # False Easting in meters\n",
    "    N0 = 0       # False Northing in meters\n",
    "    F0 = 0.9996  # Scale factor at central meridian\n",
    "    lo0 = math.radians(15)  # Central meridian in radians\n",
    "    a = 6378137.0  # Semi-major axis of WGS 84 ellipsoid in meters\n",
    "    la0 = 0  # Latitude of projection origin in radians\n",
    "\n",
    "    # Convert\n",
    "    lat = la0 + (N - N0) / (a * F0)\n",
    "    long = lo0 + (E - E0) / (a * F0 * cos(lat))\n",
    "\n",
    "    return lat, long\n",
    "\n",
    "# Calculate distance between points (E, N) and (lat, long)\n",
    "def distance(E, N, lat, long):\n",
    "\n",
    "    # Convert E-kooridnat and N-kooridnat to (lat1, lon1)\n",
    "    lat1, lon1 = sweref99_to_latlon(E, N)\n",
    "    \n",
    "    # Convert to radians\n",
    "    lat2 = radians(lat)\n",
    "    lon2 = radians(long)\n",
    "    \n",
    "    # Haversine formula\n",
    "    dlon = lon2 - lon1\n",
    "    dlat = lat2 - lat1\n",
    "    \n",
    "    a = sin(dlat/2)**2 + cos(lat1) * cos(lat2) * sin(dlon/2)**2\n",
    "    c = 2 * atan2(sqrt(a), sqrt(1-a))\n",
    "    \n",
    "    # Radius of the Earth in kilometers (mean value)\n",
    "    radius_earth = 6371.0\n",
    "    \n",
    "    # Calculate the distance\n",
    "    distance = radius_earth * c\n",
    "    \n",
    "    return distance\n",
    "\n",
    "distance_udf = udf(distance, FloatType())"
   ]
  },
  {
   "cell_type": "markdown",
   "metadata": {},
   "source": [
    "### Clean data and map turbine to closest wind core site"
   ]
  },
  {
   "cell_type": "code",
   "execution_count": 140,
   "metadata": {},
   "outputs": [
    {
     "name": "stdout",
     "output_type": "stream",
     "text": [
      "+------+----------------------+------------------+--------+\n",
      "|Id    |Namn                  |avg distance      |turbines|\n",
      "+------+----------------------+------------------+--------+\n",
      "|140460|Holmön A              |31.593722317795642|7       |\n",
      "|140480|Umeå Flygplats        |40.71140988554128 |25      |\n",
      "|149340|Petisträsk A          |31.695296320914863|27      |\n",
      "|149560|Norsjö A              |27.311162906168107|67      |\n",
      "|151380|Skellefteå Flygplats  |20.60428277675917 |4       |\n",
      "|157870|Buresjön A            |26.160925654400817|7       |\n",
      "|158740|Malå-Brännan A        |21.49654244211856 |41      |\n",
      "|159880|Arvidsjaur A          |46.30123260037012 |16      |\n",
      "|161710|Pite-Rönnskär A       |39.674710253650446|210     |\n",
      "|161910|Älvsbyn A             |44.27760914653739 |206     |\n",
      "|162860|Luleå-Kallax Flygplats|16.62211951817588 |1       |\n",
      "|163900|Storön A              |9.099583528119986 |4       |\n",
      "|163960|Haparanda A           |19.251840822187297|5       |\n",
      "|172940|Paharova A            |22.443951471437487|24      |\n",
      "|173900|Ylinenjärvi A         |29.15759586214368 |13      |\n",
      "|178860|Stora Sjöfallet A     |17.731144425269992|1       |\n",
      "|180770|Latnivaara A          |27.043968215212942|30      |\n",
      "|180940|Kiruna Flygplats      |13.56304612193093 |6       |\n",
      "|182810|Saittarova A          |27.596040169731793|14      |\n",
      "|183750|Pajala A              |29.70667891055326 |6       |\n",
      "+------+----------------------+------------------+--------+\n",
      "\n"
     ]
    }
   ],
   "source": [
    "# Clean uneccesary spaces after Elområde (Electricity zone)\n",
    "df_2 = df_2.withColumn(\"Elområde\", regexp_replace(col(\"Elområde\"), \"\\\\s+\", \"\"))\n",
    "\n",
    "# Filter out turbines:\n",
    "#    not on land, \n",
    "#    not mounted and \n",
    "#    not in Elområde 1\n",
    "\n",
    "df_2 = df_2.filter((col(\"Status\") == \"Uppfört\") & (col(\"Placering\") == \"Land\") & (col(\"Elområde\") == \"Luleå\"))\n",
    "\n",
    "# Make life easier\n",
    "df_2.createOrReplaceTempView(\"df2\")\n",
    "\n",
    "# Get relevant fields\n",
    "df_2 = spark.sql(\"SELECT `Verk-ID`, `E-koordinat`, `N-koordinat`, `Uppfört`, `Maxeffekt (MW)` FROM df2\")\n",
    "\n",
    "# Join tables ignoring no longer active wind core sites\n",
    "df_2 = df_2.crossJoin(df.filter((col(\"Aktiv\") == \"Ja\")))\n",
    "\n",
    "# Add column that calculate distance between all turbines and wind core sites\n",
    "df_final = df_2.withColumn(\"distance (km)\", distance(df_2[\"E-koordinat\"], df_2[\"N-koordinat\"], df_2[\"Latitud\"], df_2[\"Longitud\"]))\n",
    "\n",
    "df_final.createOrReplaceTempView(\"dfinal\")\n",
    "# Select the closest wind core site for each wind turbine (defined by Verk-ID)\n",
    "df_final = spark.sql(\"SELECT * FROM dfinal WHERE `distance (km)` IN (SELECT MIN(`distance (km)`) FROM dfinal GROUP BY `Verk-ID`)\")\n",
    "\n",
    "\n",
    "df_final.createOrReplaceTempView(\"dfinal\")\n",
    "# Find needed wind core sites\n",
    "temp = spark.sql(\"SELECT Id, Namn, AVG(`distance (km)`) as `avg distance`, COUNT(Namn) as turbines FROM dfinal GROUP BY Namn, Id ORDER BY Id\")\n",
    "\n",
    "temp.show(n=50, truncate=False)"
   ]
  },
  {
   "cell_type": "code",
   "execution_count": 141,
   "metadata": {},
   "outputs": [
    {
     "name": "stderr",
     "output_type": "stream",
     "text": [
      "                                                                                \r"
     ]
    },
    {
     "name": "stdout",
     "output_type": "stream",
     "text": [
      "+------+-------------+-------------------+------------+------------------+--------+\n",
      "|    Id|Vindhastighet|          timestamp|        Namn|      avg distance|turbines|\n",
      "+------+-------------+-------------------+------------+------------------+--------+\n",
      "|149340|          0.0|2020-01-01 00:00:00|Petisträsk A|31.695296320914863|      27|\n",
      "|149340|          0.0|2020-01-01 01:00:00|Petisträsk A|31.695296320914863|      27|\n",
      "|149340|          0.8|2020-01-01 02:00:00|Petisträsk A|31.695296320914863|      27|\n",
      "|149340|          0.7|2020-01-01 03:00:00|Petisträsk A|31.695296320914863|      27|\n",
      "|149340|          1.1|2020-01-01 04:00:00|Petisträsk A|31.695296320914863|      27|\n",
      "|149340|          0.0|2020-01-01 05:00:00|Petisträsk A|31.695296320914863|      27|\n",
      "|149340|          0.0|2020-01-01 06:00:00|Petisträsk A|31.695296320914863|      27|\n",
      "|149340|          0.6|2020-01-01 07:00:00|Petisträsk A|31.695296320914863|      27|\n",
      "|149340|          0.8|2020-01-01 08:00:00|Petisträsk A|31.695296320914863|      27|\n",
      "|149340|          0.7|2020-01-01 09:00:00|Petisträsk A|31.695296320914863|      27|\n",
      "|149340|          1.0|2020-01-01 10:00:00|Petisträsk A|31.695296320914863|      27|\n",
      "|149340|          1.7|2020-01-01 11:00:00|Petisträsk A|31.695296320914863|      27|\n",
      "|149340|          2.0|2020-01-01 12:00:00|Petisträsk A|31.695296320914863|      27|\n",
      "|149340|          0.8|2020-01-01 13:00:00|Petisträsk A|31.695296320914863|      27|\n",
      "|149340|          1.0|2020-01-01 14:00:00|Petisträsk A|31.695296320914863|      27|\n",
      "|149340|          2.1|2020-01-01 15:00:00|Petisträsk A|31.695296320914863|      27|\n",
      "|149340|          1.9|2020-01-01 16:00:00|Petisträsk A|31.695296320914863|      27|\n",
      "|149340|          2.4|2020-01-01 17:00:00|Petisträsk A|31.695296320914863|      27|\n",
      "|149340|          2.6|2020-01-01 18:00:00|Petisträsk A|31.695296320914863|      27|\n",
      "|149340|          2.8|2020-01-01 19:00:00|Petisträsk A|31.695296320914863|      27|\n",
      "+------+-------------+-------------------+------------+------------------+--------+\n",
      "only showing top 20 rows\n",
      "\n"
     ]
    }
   ],
   "source": [
    "# List to store individual DataFrames\n",
    "dataframes = []\n",
    "\n",
    "# Loop through all files in the folder\n",
    "for filename in os.listdir(\"data/weather_data_mean/\"):\n",
    "    if filename.endswith('.csv'):  # Assuming your files have a .csv extension\n",
    "        file_path = os.path.join(\"data/weather_data_mean/\", filename)\n",
    "        parts = filename.split('_')\n",
    "        id = parts[3]\n",
    "        df = spark.read.option(\"sep\", \";\").csv(file_path, header=True, inferSchema=True)\n",
    "        df = df.filter(year('Datum') >= 2020)\n",
    "        df = df.withColumn('timestamp', concat(col('Datum'), substring(col('Tid (UTC)').cast('string'), 11, 100)))\n",
    "\n",
    "        df = df.drop(*[\"Datum\", \"Tid (UTC)\", \"Vindriktning\", \"Kvalitet3\", \"Kvalitet5\", \"_c6\", \"Tidsutsnitt:\"])\n",
    "        df = df.withColumn('Id', lit(id))\n",
    "        \n",
    "        dataframes.append(df)\n",
    "\n",
    "# Concatenate the DataFrames\n",
    "concatenated_df = dataframes[0]  # Initialize with the first DataFrame\n",
    "for df in dataframes[1:]:\n",
    "    concatenated_df = concatenated_df.union(df)\n",
    "\n",
    "result_df = concatenated_df.join(temp, \"Id\", \"inner\")\n",
    "\n",
    "# Show the result DataFrame\n",
    "result_df.show()"
   ]
  }
 ],
 "metadata": {
  "kernelspec": {
   "display_name": "venv",
   "language": "python",
   "name": "python3"
  },
  "language_info": {
   "codemirror_mode": {
    "name": "ipython",
    "version": 3
   },
   "file_extension": ".py",
   "mimetype": "text/x-python",
   "name": "python",
   "nbconvert_exporter": "python",
   "pygments_lexer": "ipython3",
   "version": "3.10.8"
  },
  "orig_nbformat": 4
 },
 "nbformat": 4,
 "nbformat_minor": 2
}
