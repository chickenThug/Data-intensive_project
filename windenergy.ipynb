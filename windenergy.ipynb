{
 "cells": [
  {
   "cell_type": "markdown",
   "metadata": {},
   "source": [
    "### Read data and import necessary libraries and functions"
   ]
  },
  {
   "cell_type": "code",
   "execution_count": null,
   "metadata": {},
   "outputs": [],
   "source": [
    "# Import necessary functionality\n",
    "from pyspark.sql import SparkSession\n",
    "from pyspark.sql.functions import col, regexp_replace, udf, cos, radians, sin, sqrt, atan2, year, concat, substring, lit, avg, regexp_extract, expr, min, max, sum, count\n",
    "from pyspark.sql.window import Window\n",
    "from pyspark.sql.types import FloatType\n",
    "import matplotlib.pyplot as plt\n",
    "import seaborn as sns\n",
    "import math\n",
    "import os\n",
    "\n",
    "# Create a SparkSession\n",
    "spark = SparkSession.builder.appName(\"WindEnergy\").getOrCreate()\n",
    "\n",
    "# Read wind core sites data and select relevant columns and convert column namees to english\n",
    "sites_df = spark.read.option(\"sep\", \";\").csv(\"data/metobs_wind_core_sites.csv\", header=True, inferSchema=True).select(\n",
    "    col(\"Id\"),\n",
    "    col(\"Namn\").alias(\"Name\"),\n",
    "    col(\"Latitud\"),\n",
    "    col(\"Longitud\"),\n",
    "    col(\"Aktiv\").alias(\"Active\")\n",
    ")\n",
    "\n",
    "# Read wind turbine data\n",
    "turbine_df = spark.read.option(\"sep\", \",\").csv(\"data/VBK_export_allman_prod - Vindkraftverk.csv\", header=True, inferSchema=True).select(\n",
    "    col(\"Verk-ID\").alias(\"Turbine-ID\"),\n",
    "    col(\"Status\"),\n",
    "    col(\"Placering\").alias(\"Placement\"),\n",
    "    col(\"N-Koordinat\").alias(\"N-Coordinate\"),\n",
    "    col(\"E-Koordinat\").alias(\"E-Coordinate\"),\n",
    "    col(\"Maxeffekt (MW)\").alias(\"Maxeffect (MW)\"),\n",
    "    col(\"Elområde\").alias(\"Bidding_Zone\"),\n",
    "    col(\"Uppfört\").alias(\"Built\")\n",
    ")\n",
    "\n",
    "sites_df.show(n=5)\n",
    "turbine_df.show(n=5)\n"
   ]
  },
  {
   "cell_type": "markdown",
   "metadata": {},
   "source": [
    "### Data cleaning"
   ]
  },
  {
   "cell_type": "code",
   "execution_count": null,
   "metadata": {},
   "outputs": [],
   "source": [
    "turbine_df.select(\"Placement\").distinct().show()\n",
    "turbine_df.select(\"Bidding_Zone\").distinct().show()\n",
    "\n",
    "# Strip column values\n",
    "turbine_df = turbine_df.withColumn(\"Bidding_Zone\", regexp_replace(col(\"Bidding_Zone\"), \"\\\\s+\", \"\"))\n",
    "turbine_df = turbine_df.withColumn(\"Placement\", regexp_replace(col(\"Placement\"), \"\\\\s+\", \"\"))\n",
    "\n",
    "turbine_df.select(\"Placement\").distinct().show()\n",
    "turbine_df.select(\"Bidding_Zone\").distinct().show()"
   ]
  },
  {
   "cell_type": "markdown",
   "metadata": {},
   "source": [
    "### Filter DataFrames"
   ]
  },
  {
   "cell_type": "code",
   "execution_count": null,
   "metadata": {},
   "outputs": [],
   "source": [
    "# Filter out turbines:\n",
    "#    not on land, \n",
    "#    not in production and \n",
    "#    not in Bidding Zone 1 (Luleå)\n",
    "#    turbines with less than 1.01 max effect\n",
    "turbine_df = turbine_df.filter((col(\"Status\") == \"Uppfört\") & (col(\"Placement\") == \"Land\") & (col(\"Bidding_Zone\") == \"Luleå\") & (col(\"Maxeffekt (MW)\")<1.01))\n",
    "\n",
    "# Filter out non-active wind core sites\n",
    "sites_df = sites_df.filter((col(\"Active\") == \"Ja\"))"
   ]
  },
  {
   "cell_type": "markdown",
   "metadata": {},
   "source": [
    "### Define helper functions"
   ]
  },
  {
   "cell_type": "code",
   "execution_count": null,
   "metadata": {},
   "outputs": [],
   "source": [
    "# Function for transformation sweref99 tm to longitude and latitude coordinates\n",
    "def sweref99_to_latlon(E, N):\n",
    "    # Constants for SWEREF99 TM projection\n",
    "    E0 = 500000  # False Easting in meters\n",
    "    N0 = 0       # False Northing in meters\n",
    "    F0 = 0.9996  # Scale factor at central meridian\n",
    "    lo0 = math.radians(15)  # Central meridian in radians\n",
    "    a = 6378137.0  # Semi-major axis of WGS 84 ellipsoid in meters\n",
    "    la0 = 0  # Latitude of projection origin in radians\n",
    "\n",
    "    # Convert\n",
    "    lat = la0 + (N - N0) / (a * F0)\n",
    "    long = lo0 + (E - E0) / (a * F0 * cos(lat))\n",
    "\n",
    "    return lat, long\n",
    "\n",
    "# Calculate distance between points (E, N) and (lat, long)\n",
    "def distance(E, N, lat, long):\n",
    "\n",
    "    # Convert E-kooridnat and N-kooridnat to (lat1, lon1)\n",
    "    lat1, lon1 = sweref99_to_latlon(E, N)\n",
    "    \n",
    "    # Convert to radians\n",
    "    lat2 = radians(lat)\n",
    "    lon2 = radians(long)\n",
    "    \n",
    "    # Haversine formula\n",
    "    dlon = lon2 - lon1\n",
    "    dlat = lat2 - lat1\n",
    "    \n",
    "    a = sin(dlat/2)**2 + cos(lat1) * cos(lat2) * sin(dlon/2)**2\n",
    "    c = 2 * atan2(sqrt(a), sqrt(1-a))\n",
    "    \n",
    "    # Radius of the Earth in kilometers (mean value)\n",
    "    radius_earth = 6371.0\n",
    "    \n",
    "    # Calculate the distance\n",
    "    distance = radius_earth * c\n",
    "    \n",
    "    return distance\n",
    "\n",
    "distance_udf = udf(distance, FloatType())"
   ]
  },
  {
   "cell_type": "markdown",
   "metadata": {},
   "source": [
    "### Map turbine to closest wind core site"
   ]
  },
  {
   "cell_type": "code",
   "execution_count": null,
   "metadata": {},
   "outputs": [],
   "source": [
    "mapping_df = turbine_df.crossJoin(sites_df)\n",
    "\n",
    "# Calculate distance between each turbine and wind core site\n",
    "mapping_df = mapping_df.withColumn(\"distance(km)\", distance(mapping_df[\"E-Coordinate\"], mapping_df[\"N-Coordinate\"], mapping_df[\"Latitud\"], mapping_df[\"Longitud\"]))\n",
    "\n",
    "# Find the distance to the closes wind core site for each turbine\n",
    "min_distance_df = mapping_df.groupBy(\"Turbine-ID\").agg(min(col(\"distance(km)\")).alias(\"distance(km)\"))\n",
    "\n",
    "# Map each wind turbine to the closest wind core site\n",
    "mapping_df = mapping_df.join(min_distance_df, [\"Turbine-ID\", \"distance(km)\"], \"inner\").select(\"Turbine-ID\", \"distance(km)\", \"Maxeffect (MW)\", \"Built\", \"Id\", \"Name\")\n",
    "print(\"Number of turbines\", mapping_df.count())\n",
    "mapping_df.show(n=5)"
   ]
  },
  {
   "cell_type": "markdown",
   "metadata": {},
   "source": [
    "### Read wind speed data"
   ]
  },
  {
   "cell_type": "code",
   "execution_count": null,
   "metadata": {},
   "outputs": [],
   "source": [
    "# List to store individual DataFrames\n",
    "dataframes = []\n",
    "\n",
    "# Loop through all files in the folder\n",
    "for filename in os.listdir(\"data/weather_data_mean/\"):\n",
    "    if filename.endswith('.csv'):  # Assuming your files have a .csv extension\n",
    "        file_path = os.path.join(\"data/weather_data_mean/\", filename)\n",
    "\n",
    "        # Extract id from filename\n",
    "        parts = filename.split('_')\n",
    "        id = parts[3]\n",
    "\n",
    "        temp_df = spark.read.option(\"sep\", \";\").csv(file_path, header=True, inferSchema=True)\n",
    "\n",
    "        # Select necessary fields and format date and time\n",
    "        temp_df = temp_df.filter(year('Datum') >= 2020)\n",
    "        temp_df = temp_df.withColumn('timestamp', concat(col('Datum'), substring(col('Tid (UTC)').cast('string'), 11, 100)))\n",
    "        temp_df = temp_df.select(col(\"Vindhastighet\").alias(\"wind_speed\"), col(\"timestamp\"))\n",
    "        temp_df = temp_df.withColumn('Id', lit(id))\n",
    "        \n",
    "        dataframes.append(temp_df)\n",
    "\n",
    "# Concatenate the DataFrames\n",
    "wind_df = dataframes[0]  # Initialize with the first DataFrame\n",
    "for df in dataframes[1:]:\n",
    "    wind_df = wind_df.union(df)\n",
    "\n",
    "wind_df.show(n=5)"
   ]
  },
  {
   "cell_type": "markdown",
   "metadata": {},
   "source": [
    "### Merge wind speed data with wind turbine mapping data"
   ]
  },
  {
   "cell_type": "code",
   "execution_count": null,
   "metadata": {},
   "outputs": [],
   "source": [
    "# Join wind measurement data and wind turbine data\n",
    "data_df = mapping_df.join(wind_df, \"Id\", \"inner\")\n",
    "\n",
    "# For each timestamp filter out windturbines that were built on a later date\n",
    "data_df = data_df.filter(col(\"timestamp\")>col(\"Built\"))\n",
    "\n",
    "# Group by wind core site and timestamp counting the number of turbines mapped to it\n",
    "# (wind_speed will be the same for each row)\n",
    "data_df = data_df.groupBy(\"Id\", \"timestamp\").agg(\n",
    "    count(\"*\").alias(\"Turbines\"),\n",
    "    min(\"wind_speed\").alias(\"wind_speed\"),\n",
    ")\n",
    "\n",
    "# Group by timestamp calculating average windspeed across wind core sites\n",
    "# weighted by the number of turbines mapped to each wind core site\n",
    "data_df = data_df.groupBy(\"timestamp\").agg(\n",
    "     (sum(expr(\"wind_speed * Turbines\")) / sum(\"Turbines\")).alias(\"weighted_avg_wind_speed\")\n",
    ")\n",
    "\n",
    "data_df.show(n=5)"
   ]
  },
  {
   "cell_type": "markdown",
   "metadata": {},
   "source": [
    "### Read and format electricity data"
   ]
  },
  {
   "cell_type": "code",
   "execution_count": null,
   "metadata": {},
   "outputs": [],
   "source": [
    "def rollingAverage3h(file_path):\n",
    "    df = spark.read.csv(file_path, header=True, inferSchema=True).select(\"MTU\", \"Wind Onshore  - Actual Aggregated [MW]\")\n",
    "    \n",
    "    # just display the end time of the time frame\n",
    "    df_with_time = df.withColumn(\"End_Time\", regexp_extract(df[\"MTU\"], r\"(\\d{2}\\.\\d{2}\\.\\d{4} \\d{2}:\\d{2} \\(UTC\\))\", 1))\n",
    "    \n",
    "    # 3h sliding window average to adhere to wind measurements\n",
    "    windowSpec = Window.orderBy(\"End_Time\").rowsBetween(-2, 0)\n",
    "\n",
    "    df_with_avg = df_with_time.withColumn(\"Rolling Average 3h in MWh\", avg(\"Wind Onshore  - Actual Aggregated [MW]\").over(windowSpec))\n",
    "\n",
    "    # Select relevant fields\n",
    "    df_clean = df_with_avg.select(\n",
    "        col(\"End_Time\"), \n",
    "        col(\"Rolling Average 3h in MWh\")\n",
    "    )\n",
    "    \n",
    "    return df_clean\n",
    "\n",
    "df_average2021 = rollingAverage3h(\"data/production/SE1Onshore2021UTC.csv\")\n",
    "\n",
    "df_average2022 = rollingAverage3h(\"data/production/SE1Onshore2022UTC.csv\")\n",
    "\n",
    "# Join years into a single dataframe\n",
    "df_both_years = df_average2021.union(df_average2022)\n",
    "\n",
    "# format data and time to adhere to wind measurements fromatting\n",
    "df_both_years = df_both_years.withColumn(\"timestamp\",\n",
    "                   expr(\"concat(substring(End_Time, 7, 4),'-' ,substring(End_Time, 4, 2),'-', substring(End_Time, 1, 2), ' ', substring(End_Time, 12, 5), ':00')\")\n",
    "                   ).select(\"Rolling Average 3h in MWh\", \"timestamp\")\n",
    "\n",
    "df_both_years.show(n=5, truncate=False)"
   ]
  },
  {
   "cell_type": "markdown",
   "metadata": {},
   "source": [
    "### Merge electricity and wind data"
   ]
  },
  {
   "cell_type": "code",
   "execution_count": null,
   "metadata": {},
   "outputs": [],
   "source": [
    "data_df = df_both_years.join(other=data_df, how=\"inner\", on=\"timestamp\")\n",
    "data_df.show(n=5)"
   ]
  },
  {
   "cell_type": "markdown",
   "metadata": {},
   "source": [
    "### Perform Analysis"
   ]
  },
  {
   "cell_type": "code",
   "execution_count": null,
   "metadata": {},
   "outputs": [],
   "source": [
    "correlation = data_df.corr(\"weighted_avg_wind_speed\", \"Rolling Average 3h in MWh\", method=\"pearson\")\n",
    "\n",
    "print(f\"Linear Correlation between wind and energy: {correlation}\")"
   ]
  },
  {
   "cell_type": "code",
   "execution_count": null,
   "metadata": {},
   "outputs": [],
   "source": [
    "# Sample 10% of the data for visualization\n",
    "sample_df = data_df.select(\"weighted_avg_wind_speed\", \"Rolling Average 3h in MWh\").sample(False, 0.1, seed=1)\n",
    "\n",
    "# Convert the DataFrame to Pandas for plotting\n",
    "pandas_df = sample_df.select(\"weighted_avg_wind_speed\", \"Rolling Average 3h in MWh\").toPandas()\n",
    "\n",
    "# Create a  regplot\n",
    "sns.regplot(x=pandas_df['weighted_avg_wind_speed'], y=pandas_df['Rolling Average 3h in MWh'], line_kws={\"color\": \"red\"})\n",
    "plt.xlabel('Wind')\n",
    "plt.ylabel('Energy')\n",
    "plt.title('Scatter Plot of Wind vs. Energy')\n",
    "plt.show()"
   ]
  }
 ],
 "metadata": {
  "kernelspec": {
   "display_name": "venv",
   "language": "python",
   "name": "python3"
  },
  "language_info": {
   "codemirror_mode": {
    "name": "ipython",
    "version": 3
   },
   "file_extension": ".py",
   "mimetype": "text/x-python",
   "name": "python",
   "nbconvert_exporter": "python",
   "pygments_lexer": "ipython3",
   "version": "3.7.16"
  },
  "orig_nbformat": 4
 },
 "nbformat": 4,
 "nbformat_minor": 2
}
