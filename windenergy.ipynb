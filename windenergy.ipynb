{
 "cells": [
  {
   "cell_type": "code",
   "execution_count": 12,
   "metadata": {},
   "outputs": [
    {
     "ename": "AnalysisException",
     "evalue": "[PATH_NOT_FOUND] Path does not exist: file:/home/chickenthug/Documents/school/DIC/project/data/metobs_maxMeanWindSpeed_active_sties.csv.",
     "output_type": "error",
     "traceback": [
      "\u001b[0;31m---------------------------------------------------------------------------\u001b[0m",
      "\u001b[0;31mAnalysisException\u001b[0m                         Traceback (most recent call last)",
      "\u001b[1;32m/home/chickenthug/Documents/school/DIC/project/windenergy.ipynb Cell 1\u001b[0m line \u001b[0;36m1\n\u001b[1;32m      <a href='vscode-notebook-cell:/home/chickenthug/Documents/school/DIC/project/windenergy.ipynb#W0sZmlsZQ%3D%3D?line=7'>8</a>\u001b[0m spark \u001b[39m=\u001b[39m SparkSession\u001b[39m.\u001b[39mbuilder\u001b[39m.\u001b[39mappName(\u001b[39m\"\u001b[39m\u001b[39mReadCSV\u001b[39m\u001b[39m\"\u001b[39m)\u001b[39m.\u001b[39mgetOrCreate()\n\u001b[1;32m     <a href='vscode-notebook-cell:/home/chickenthug/Documents/school/DIC/project/windenergy.ipynb#W0sZmlsZQ%3D%3D?line=9'>10</a>\u001b[0m \u001b[39m# Read wind core sites data\u001b[39;00m\n\u001b[0;32m---> <a href='vscode-notebook-cell:/home/chickenthug/Documents/school/DIC/project/windenergy.ipynb#W0sZmlsZQ%3D%3D?line=10'>11</a>\u001b[0m df \u001b[39m=\u001b[39m spark\u001b[39m.\u001b[39;49mread\u001b[39m.\u001b[39;49moption(\u001b[39m\"\u001b[39;49m\u001b[39msep\u001b[39;49m\u001b[39m\"\u001b[39;49m, \u001b[39m\"\u001b[39;49m\u001b[39m;\u001b[39;49m\u001b[39m\"\u001b[39;49m)\u001b[39m.\u001b[39;49mcsv(\u001b[39m\"\u001b[39;49m\u001b[39mdata/metobs_maxMeanWindSpeed_active_sties.csv\u001b[39;49m\u001b[39m\"\u001b[39;49m, header\u001b[39m=\u001b[39;49m\u001b[39mTrue\u001b[39;49;00m, inferSchema\u001b[39m=\u001b[39;49m\u001b[39mTrue\u001b[39;49;00m)\n\u001b[1;32m     <a href='vscode-notebook-cell:/home/chickenthug/Documents/school/DIC/project/windenergy.ipynb#W0sZmlsZQ%3D%3D?line=12'>13</a>\u001b[0m \u001b[39m# Read wind turbine data\u001b[39;00m\n\u001b[1;32m     <a href='vscode-notebook-cell:/home/chickenthug/Documents/school/DIC/project/windenergy.ipynb#W0sZmlsZQ%3D%3D?line=13'>14</a>\u001b[0m df_2 \u001b[39m=\u001b[39m spark\u001b[39m.\u001b[39mread\u001b[39m.\u001b[39moption(\u001b[39m\"\u001b[39m\u001b[39msep\u001b[39m\u001b[39m\"\u001b[39m, \u001b[39m\"\u001b[39m\u001b[39m,\u001b[39m\u001b[39m\"\u001b[39m)\u001b[39m.\u001b[39mcsv(\u001b[39m\"\u001b[39m\u001b[39mdata/VBK_export_allman_prod - Vindkraftverk.csv\u001b[39m\u001b[39m\"\u001b[39m, header\u001b[39m=\u001b[39m\u001b[39mTrue\u001b[39;00m, inferSchema\u001b[39m=\u001b[39m\u001b[39mTrue\u001b[39;00m)\n",
      "File \u001b[0;32m/opt/spark-3.5.0/python/pyspark/sql/readwriter.py:740\u001b[0m, in \u001b[0;36mDataFrameReader.csv\u001b[0;34m(self, path, schema, sep, encoding, quote, escape, comment, header, inferSchema, ignoreLeadingWhiteSpace, ignoreTrailingWhiteSpace, nullValue, nanValue, positiveInf, negativeInf, dateFormat, timestampFormat, maxColumns, maxCharsPerColumn, maxMalformedLogPerPartition, mode, columnNameOfCorruptRecord, multiLine, charToEscapeQuoteEscaping, samplingRatio, enforceSchema, emptyValue, locale, lineSep, pathGlobFilter, recursiveFileLookup, modifiedBefore, modifiedAfter, unescapedQuoteHandling)\u001b[0m\n\u001b[1;32m    738\u001b[0m \u001b[39mif\u001b[39;00m \u001b[39mtype\u001b[39m(path) \u001b[39m==\u001b[39m \u001b[39mlist\u001b[39m:\n\u001b[1;32m    739\u001b[0m     \u001b[39massert\u001b[39;00m \u001b[39mself\u001b[39m\u001b[39m.\u001b[39m_spark\u001b[39m.\u001b[39m_sc\u001b[39m.\u001b[39m_jvm \u001b[39mis\u001b[39;00m \u001b[39mnot\u001b[39;00m \u001b[39mNone\u001b[39;00m\n\u001b[0;32m--> 740\u001b[0m     \u001b[39mreturn\u001b[39;00m \u001b[39mself\u001b[39m\u001b[39m.\u001b[39m_df(\u001b[39mself\u001b[39;49m\u001b[39m.\u001b[39;49m_jreader\u001b[39m.\u001b[39;49mcsv(\u001b[39mself\u001b[39;49m\u001b[39m.\u001b[39;49m_spark\u001b[39m.\u001b[39;49m_sc\u001b[39m.\u001b[39;49m_jvm\u001b[39m.\u001b[39;49mPythonUtils\u001b[39m.\u001b[39;49mtoSeq(path)))\n\u001b[1;32m    741\u001b[0m \u001b[39melif\u001b[39;00m \u001b[39misinstance\u001b[39m(path, RDD):\n\u001b[1;32m    743\u001b[0m     \u001b[39mdef\u001b[39;00m \u001b[39mfunc\u001b[39m(iterator):\n",
      "File \u001b[0;32m~/miniconda3/lib/python3.10/site-packages/py4j/java_gateway.py:1322\u001b[0m, in \u001b[0;36mJavaMember.__call__\u001b[0;34m(self, *args)\u001b[0m\n\u001b[1;32m   1316\u001b[0m command \u001b[39m=\u001b[39m proto\u001b[39m.\u001b[39mCALL_COMMAND_NAME \u001b[39m+\u001b[39m\\\n\u001b[1;32m   1317\u001b[0m     \u001b[39mself\u001b[39m\u001b[39m.\u001b[39mcommand_header \u001b[39m+\u001b[39m\\\n\u001b[1;32m   1318\u001b[0m     args_command \u001b[39m+\u001b[39m\\\n\u001b[1;32m   1319\u001b[0m     proto\u001b[39m.\u001b[39mEND_COMMAND_PART\n\u001b[1;32m   1321\u001b[0m answer \u001b[39m=\u001b[39m \u001b[39mself\u001b[39m\u001b[39m.\u001b[39mgateway_client\u001b[39m.\u001b[39msend_command(command)\n\u001b[0;32m-> 1322\u001b[0m return_value \u001b[39m=\u001b[39m get_return_value(\n\u001b[1;32m   1323\u001b[0m     answer, \u001b[39mself\u001b[39;49m\u001b[39m.\u001b[39;49mgateway_client, \u001b[39mself\u001b[39;49m\u001b[39m.\u001b[39;49mtarget_id, \u001b[39mself\u001b[39;49m\u001b[39m.\u001b[39;49mname)\n\u001b[1;32m   1325\u001b[0m \u001b[39mfor\u001b[39;00m temp_arg \u001b[39min\u001b[39;00m temp_args:\n\u001b[1;32m   1326\u001b[0m     \u001b[39mif\u001b[39;00m \u001b[39mhasattr\u001b[39m(temp_arg, \u001b[39m\"\u001b[39m\u001b[39m_detach\u001b[39m\u001b[39m\"\u001b[39m):\n",
      "File \u001b[0;32m/opt/spark-3.5.0/python/pyspark/errors/exceptions/captured.py:185\u001b[0m, in \u001b[0;36mcapture_sql_exception.<locals>.deco\u001b[0;34m(*a, **kw)\u001b[0m\n\u001b[1;32m    181\u001b[0m converted \u001b[39m=\u001b[39m convert_exception(e\u001b[39m.\u001b[39mjava_exception)\n\u001b[1;32m    182\u001b[0m \u001b[39mif\u001b[39;00m \u001b[39mnot\u001b[39;00m \u001b[39misinstance\u001b[39m(converted, UnknownException):\n\u001b[1;32m    183\u001b[0m     \u001b[39m# Hide where the exception came from that shows a non-Pythonic\u001b[39;00m\n\u001b[1;32m    184\u001b[0m     \u001b[39m# JVM exception message.\u001b[39;00m\n\u001b[0;32m--> 185\u001b[0m     \u001b[39mraise\u001b[39;00m converted \u001b[39mfrom\u001b[39;00m \u001b[39mNone\u001b[39;00m\n\u001b[1;32m    186\u001b[0m \u001b[39melse\u001b[39;00m:\n\u001b[1;32m    187\u001b[0m     \u001b[39mraise\u001b[39;00m\n",
      "\u001b[0;31mAnalysisException\u001b[0m: [PATH_NOT_FOUND] Path does not exist: file:/home/chickenthug/Documents/school/DIC/project/data/metobs_maxMeanWindSpeed_active_sties.csv."
     ]
    }
   ],
   "source": [
    "# Import necessary functionality\n",
    "from pyspark.sql import SparkSession\n",
    "from pyspark.sql.functions import col, regexp_replace, udf, cos, radians, sin, sqrt, atan2\n",
    "from pyspark.sql.types import FloatType\n",
    "import math\n",
    "\n",
    "# Create a SparkSession\n",
    "spark = SparkSession.builder.appName(\"ReadCSV\").getOrCreate()\n",
    "\n",
    "# Read wind core sites data\n",
    "df = spark.read.option(\"sep\", \";\").csv(\"data/metobs_maxMeanWindSpeed_active_sites.csv\", header=True, inferSchema=True)\n",
    "\n",
    "# Read wind turbine data\n",
    "df_2 = spark.read.option(\"sep\", \",\").csv(\"data/VBK_export_allman_prod - Vindkraftverk.csv\", header=True, inferSchema=True)\n",
    "\n",
    "df.show(n=5)\n",
    "df_2.show(n=5)\n"
   ]
  },
  {
   "cell_type": "code",
   "execution_count": null,
   "metadata": {},
   "outputs": [],
   "source": [
    "# Function for transformation sweref99 tm to longitude and latitude coordinates\n",
    "def sweref99_to_latlon(E, N):\n",
    "    # Constants for SWEREF99 TM projection\n",
    "    E0 = 500000  # False Easting in meters\n",
    "    N0 = 0       # False Northing in meters\n",
    "    F0 = 0.9996  # Scale factor at central meridian\n",
    "    lo0 = math.radians(15)  # Central meridian in radians\n",
    "    a = 6378137.0  # Semi-major axis of WGS 84 ellipsoid in meters\n",
    "    la0 = 0  # Latitude of projection origin in radians\n",
    "\n",
    "    # Convert\n",
    "    lat = la0 + (N - N0) / (a * F0)\n",
    "    long = lo0 + (E - E0) / (a * F0 * cos(lat))\n",
    "\n",
    "    return lat, long\n",
    "\n",
    "# Calculate distance between points (E, N) and (lat, long)\n",
    "def distance(E, N, lat, long):\n",
    "\n",
    "    # Convert E-kooridnat and N-kooridnat to (lat1, lon1)\n",
    "    lat1, lon1 = sweref99_to_latlon(E, N)\n",
    "    \n",
    "    # Convert to radians\n",
    "    lat2 = radians(lat)\n",
    "    lon2 = radians(long)\n",
    "    \n",
    "    # Haversine formula\n",
    "    dlon = lon2 - lon1\n",
    "    dlat = lat2 - lat1\n",
    "    \n",
    "    a = sin(dlat/2)**2 + cos(lat1) * cos(lat2) * sin(dlon/2)**2\n",
    "    c = 2 * atan2(sqrt(a), sqrt(1-a))\n",
    "    \n",
    "    # Radius of the Earth in kilometers (mean value)\n",
    "    radius_earth = 6371.0\n",
    "    \n",
    "    # Calculate the distance\n",
    "    distance = radius_earth * c\n",
    "    \n",
    "    return distance\n",
    "\n",
    "distance_udf = udf(distance, FloatType())"
   ]
  },
  {
   "cell_type": "code",
   "execution_count": null,
   "metadata": {},
   "outputs": [
    {
     "name": "stdout",
     "output_type": "stream",
     "text": [
      "+----------------------+\n",
      "|Namn                  |\n",
      "+----------------------+\n",
      "|Arvidsjaur A          |\n",
      "|Buresjön A            |\n",
      "|Haparanda A           |\n",
      "|Holmön A              |\n",
      "|Kiruna Flygplats      |\n",
      "|Latnivaara A          |\n",
      "|Luleå-Kallax Flygplats|\n",
      "|Malå-Brännan A        |\n",
      "|Norsjö A              |\n",
      "|Paharova A            |\n",
      "|Pajala A              |\n",
      "|Petisträsk A          |\n",
      "|Pite-Rönnskär A       |\n",
      "|Saittarova A          |\n",
      "|Skellefteå Flygplats  |\n",
      "|Stora Sjöfallet A     |\n",
      "|Storön A              |\n",
      "|Umeå Flygplats        |\n",
      "|Ylinenjärvi A         |\n",
      "|Älvsbyn A             |\n",
      "+----------------------+\n",
      "\n"
     ]
    }
   ],
   "source": [
    "# Clean uneccesary spaces after Elområde (Electricity zone)\n",
    "df_2 = df_2.withColumn(\"Elområde\", regexp_replace(col(\"Elområde\"), \"\\\\s+\", \"\"))\n",
    "\n",
    "# Filter out turbines:\n",
    "#    not on land, \n",
    "#    not mounted and \n",
    "#    not in Elområde 1\n",
    "\n",
    "df_2 = df_2.filter((col(\"Status\") == \"Uppfört\") & (col(\"Placering\") == \"Land\") & (col(\"Elområde\") == \"Luleå\"))\n",
    "\n",
    "# Make life easier\n",
    "df_2.createOrReplaceTempView(\"df2\")\n",
    "\n",
    "# Get relevant fields\n",
    "df_2 = spark.sql(\"SELECT `Verk-ID`, `E-koordinat`, `N-koordinat`, `Uppfört`, `Maxeffekt (MW)` FROM df2\")\n",
    "\n",
    "# Join tables ignoring no longer active wind core sites\n",
    "df_2 = df_2.crossJoin(df.filter((col(\"Aktiv\") == \"Ja\")))\n",
    "\n",
    "# Add column that calculate distance between all turbines and wind core sites\n",
    "df_final = df_2.withColumn(\"distance (km)\", distance(df_2[\"E-koordinat\"], df_2[\"N-koordinat\"], df_2[\"Latitud\"], df_2[\"Longitud\"]))\n",
    "\n",
    "df_final.createOrReplaceTempView(\"dfinal\")\n",
    "# Select the closest wind core site for each wind turbine (defined by Verk-ID)\n",
    "df_final = spark.sql(\"SELECT * FROM dfinal WHERE `distance (km)` IN (SELECT MIN(`distance (km)`) FROM dfinal GROUP BY `Verk-ID`)\")\n",
    "\n",
    "\n",
    "df_final.createOrReplaceTempView(\"dfinal\")\n",
    "# Find needed wind core sites\n",
    "spark.sql(\"SELECT DISTINCT Namn FROM dfinal ORDER BY Namn\").show(n=50, truncate=False)\n",
    "\n",
    "spark.stop()"
   ]
  }
 ],
 "metadata": {
  "kernelspec": {
   "display_name": "venv",
   "language": "python",
   "name": "python3"
  },
  "language_info": {
   "codemirror_mode": {
    "name": "ipython",
    "version": 3
   },
   "file_extension": ".py",
   "mimetype": "text/x-python",
   "name": "python",
   "nbconvert_exporter": "python",
   "pygments_lexer": "ipython3",
   "version": "3.10.8"
  },
  "orig_nbformat": 4
 },
 "nbformat": 4,
 "nbformat_minor": 2
}
