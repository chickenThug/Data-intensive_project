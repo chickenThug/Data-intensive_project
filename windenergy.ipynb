{
 "cells": [
  {
   "cell_type": "markdown",
   "metadata": {},
   "source": [
    "### Read data and import necessary libraries and functions"
   ]
  },
  {
   "cell_type": "code",
   "execution_count": 150,
   "metadata": {},
   "outputs": [
    {
     "name": "stdout",
     "output_type": "stream",
     "text": [
      "+------+---------------+-------+--------+------+\n",
      "|    Id|           Name|Latitud|Longitud|Active|\n",
      "+------+---------------+-------+--------+------+\n",
      "|154860|Abelvattnet Aut|  65.53|   14.97|   Nej|\n",
      "|188790|     Abisko Aut|68.3538| 18.8164|    Ja|\n",
      "|158990|         Abraur|65.9857| 18.9195|   Nej|\n",
      "| 97280|       Adelsö A|59.3579| 17.5213|    Ja|\n",
      "|117330|            Agö|  61.55| 17.4666|   Nej|\n",
      "+------+---------------+-------+--------+------+\n",
      "only showing top 5 rows\n",
      "\n",
      "+--------------+-----------+----------+------------+------------+--------------+--------------------+----------+\n",
      "|    Turbine-ID|     Status| Placement|N-Coordinate|E-Coordinate|Maxeffect (MW)|        Bidding_Zone|     Built|\n",
      "+--------------+-----------+----------+------------+------------+--------------+--------------------+----------+\n",
      "|0117-V-004-001|    Uppfört|Land      |   6608791.7|    704443.5|          0.09|Stockholm           |2009-12-23|\n",
      "|0136-V-001-001|Nedmonterat|      Land|  6539904.29|   686876.11|          0.22|Stockholm           |1992-10-01|\n",
      "|0139-V-001-001|    Uppfört|      Land|  6613404.83|    643468.1|          NULL|Stockholm           |1899-12-31|\n",
      "|0181-V-001-001|Nedmonterat|      Land|  6540302.39|   655971.17|          NULL|Stockholm           |1899-12-31|\n",
      "|0188-V-001-001|    Uppfört|      Land|  6647483.43|   719672.78|          0.85|Stockholm           |2011-03-11|\n",
      "+--------------+-----------+----------+------------+------------+--------------+--------------------+----------+\n",
      "only showing top 5 rows\n",
      "\n"
     ]
    }
   ],
   "source": [
    "# Import necessary functionality\n",
    "from pyspark.sql import SparkSession\n",
    "from pyspark.sql.functions import col, regexp_replace, udf, cos, radians, sin, sqrt, atan2, year, concat, substring, lit, avg, regexp_extract, expr, min, max, sum, count\n",
    "from pyspark.sql.window import Window\n",
    "from pyspark.sql.types import FloatType\n",
    "import matplotlib.pyplot as plt\n",
    "import seaborn as sns\n",
    "import math\n",
    "import os\n",
    "\n",
    "# Create a SparkSession\n",
    "spark = SparkSession.builder.appName(\"WindEnergy\").getOrCreate()\n",
    "\n",
    "# Read wind core sites data and select relevant columns and convert column namees to english\n",
    "sites_df = spark.read.option(\"sep\", \";\").csv(\"data/metobs_wind_core_sites.csv\", header=True, inferSchema=True).select(\n",
    "    col(\"Id\"),\n",
    "    col(\"Namn\").alias(\"Name\"),\n",
    "    col(\"Latitud\"),\n",
    "    col(\"Longitud\"),\n",
    "    col(\"Aktiv\").alias(\"Active\")\n",
    ")\n",
    "\n",
    "# Read wind turbine data\n",
    "turbine_df = spark.read.option(\"sep\", \",\").csv(\"data/VBK_export_allman_prod - Vindkraftverk.csv\", header=True, inferSchema=True).select(\n",
    "    col(\"Verk-ID\").alias(\"Turbine-ID\"),\n",
    "    col(\"Status\"),\n",
    "    col(\"Placering\").alias(\"Placement\"),\n",
    "    col(\"N-Koordinat\").alias(\"N-Coordinate\"),\n",
    "    col(\"E-Koordinat\").alias(\"E-Coordinate\"),\n",
    "    col(\"Maxeffekt (MW)\").alias(\"Maxeffect (MW)\"),\n",
    "    col(\"Elområde\").alias(\"Bidding_Zone\"),\n",
    "    col(\"Uppfört\").alias(\"Built\")\n",
    ")\n",
    "\n",
    "sites_df.show(n=5)\n",
    "turbine_df.show(n=5)\n"
   ]
  },
  {
   "cell_type": "markdown",
   "metadata": {},
   "source": [
    "### Data cleaning"
   ]
  },
  {
   "cell_type": "code",
   "execution_count": 151,
   "metadata": {},
   "outputs": [
    {
     "name": "stdout",
     "output_type": "stream",
     "text": [
      "+----------+\n",
      "| Placement|\n",
      "+----------+\n",
      "|Vatten    |\n",
      "|      Land|\n",
      "|Land      |\n",
      "|    Vatten|\n",
      "|      NULL|\n",
      "+----------+\n",
      "\n",
      "+--------------------+\n",
      "|        Bidding_Zone|\n",
      "+--------------------+\n",
      "|Stockholm           |\n",
      "|Sundsvall           |\n",
      "|Luleå               |\n",
      "|Malmö               |\n",
      "+--------------------+\n",
      "\n",
      "+---------+\n",
      "|Placement|\n",
      "+---------+\n",
      "|     Land|\n",
      "|   Vatten|\n",
      "|     NULL|\n",
      "+---------+\n",
      "\n",
      "+------------+\n",
      "|Bidding_Zone|\n",
      "+------------+\n",
      "|   Stockholm|\n",
      "|       Luleå|\n",
      "|   Sundsvall|\n",
      "|       Malmö|\n",
      "+------------+\n",
      "\n"
     ]
    }
   ],
   "source": [
    "turbine_df.select(\"Placement\").distinct().show()\n",
    "turbine_df.select(\"Bidding_Zone\").distinct().show()\n",
    "\n",
    "# Strip column values\n",
    "turbine_df = turbine_df.withColumn(\"Bidding_Zone\", regexp_replace(col(\"Bidding_Zone\"), \"\\\\s+\", \"\"))\n",
    "turbine_df = turbine_df.withColumn(\"Placement\", regexp_replace(col(\"Placement\"), \"\\\\s+\", \"\"))\n",
    "\n",
    "turbine_df.select(\"Placement\").distinct().show()\n",
    "turbine_df.select(\"Bidding_Zone\").distinct().show()"
   ]
  },
  {
   "cell_type": "markdown",
   "metadata": {},
   "source": [
    "### Filter DataFrames"
   ]
  },
  {
   "cell_type": "code",
   "execution_count": 152,
   "metadata": {},
   "outputs": [],
   "source": [
    "# Filter out turbines:\n",
    "#    not on land, \n",
    "#    not in production and \n",
    "#    not in Bidding Zone 1 (Luleå)\n",
    "#    turbines with less than 1.01 max effect\n",
    "turbine_df = turbine_df.filter((col(\"Status\") == \"Uppfört\") & (col(\"Placement\") == \"Land\") & (col(\"Bidding_Zone\") == \"Luleå\") & (col(\"Maxeffekt (MW)\")<1.01))\n",
    "\n",
    "# Filter out non-active wind core sites\n",
    "sites_df = sites_df.filter((col(\"Active\") == \"Ja\"))"
   ]
  },
  {
   "cell_type": "markdown",
   "metadata": {},
   "source": [
    "### Define helper functions"
   ]
  },
  {
   "cell_type": "code",
   "execution_count": 153,
   "metadata": {},
   "outputs": [],
   "source": [
    "# Function for transformation sweref99 tm to longitude and latitude coordinates\n",
    "def sweref99_to_latlon(E, N):\n",
    "    # Constants for SWEREF99 TM projection\n",
    "    E0 = 500000  # False Easting in meters\n",
    "    N0 = 0       # False Northing in meters\n",
    "    F0 = 0.9996  # Scale factor at central meridian\n",
    "    lo0 = math.radians(15)  # Central meridian in radians\n",
    "    a = 6378137.0  # Semi-major axis of WGS 84 ellipsoid in meters\n",
    "    la0 = 0  # Latitude of projection origin in radians\n",
    "\n",
    "    # Convert\n",
    "    lat = la0 + (N - N0) / (a * F0)\n",
    "    long = lo0 + (E - E0) / (a * F0 * cos(lat))\n",
    "\n",
    "    return lat, long\n",
    "\n",
    "# Calculate distance between points (E, N) and (lat, long)\n",
    "def distance(E, N, lat, long):\n",
    "\n",
    "    # Convert E-kooridnat and N-kooridnat to (lat1, lon1)\n",
    "    lat1, lon1 = sweref99_to_latlon(E, N)\n",
    "    \n",
    "    # Convert to radians\n",
    "    lat2 = radians(lat)\n",
    "    lon2 = radians(long)\n",
    "    \n",
    "    # Haversine formula\n",
    "    dlon = lon2 - lon1\n",
    "    dlat = lat2 - lat1\n",
    "    \n",
    "    a = sin(dlat/2)**2 + cos(lat1) * cos(lat2) * sin(dlon/2)**2\n",
    "    c = 2 * atan2(sqrt(a), sqrt(1-a))\n",
    "    \n",
    "    # Radius of the Earth in kilometers (mean value)\n",
    "    radius_earth = 6371.0\n",
    "    \n",
    "    # Calculate the distance\n",
    "    distance = radius_earth * c\n",
    "    \n",
    "    return distance\n",
    "\n",
    "distance_udf = udf(distance, FloatType())"
   ]
  },
  {
   "cell_type": "markdown",
   "metadata": {},
   "source": [
    "### Map turbine to closest wind core site"
   ]
  },
  {
   "cell_type": "code",
   "execution_count": 156,
   "metadata": {},
   "outputs": [
    {
     "name": "stdout",
     "output_type": "stream",
     "text": [
      "Number of turbines 21\n",
      "+--------------+------------------+--------------+----------+------+--------------------+\n",
      "|    Turbine-ID|      distance(km)|Maxeffect (MW)|     Built|    Id|                Name|\n",
      "+--------------+------------------+--------------+----------+------+--------------------+\n",
      "|2580-V-002-001| 16.62211951817588|          0.02|2007-10-22|162860|Luleå-Kallax Flyg...|\n",
      "|2418-V-012-001|  18.8234827456979|           0.8|2009-01-01|149560|            Norsjö A|\n",
      "|2514-V-001-002|1.0310616379964619|          0.85|2009-01-01|163900|            Storön A|\n",
      "|2514-V-001-001|0.8824780796831564|          0.85|2009-01-01|163900|            Storön A|\n",
      "|2584-V-004-001|13.852286626564473|           0.9|2001-09-18|180940|    Kiruna Flygplats|\n",
      "|2583-V-001-003|19.613478002660717|           1.0|2006-04-05|163960|         Haparanda A|\n",
      "|2583-V-001-005|18.730632310986348|           1.0|2006-04-05|163960|         Haparanda A|\n",
      "|2584-V-007-001|13.336059293615653|           0.9|2001-09-01|180940|    Kiruna Flygplats|\n",
      "|2482-V-007-001|12.549290653372248|           0.6|2003-10-01|151380|Skellefteå Flygplats|\n",
      "|2584-V-005-001|13.382488332334555|           0.9|2001-09-01|180940|    Kiruna Flygplats|\n",
      "|2583-V-001-001|19.558531246601888|           1.0|2006-04-05|163960|         Haparanda A|\n",
      "|2584-V-003-001|13.697557845598785|           0.9|2001-09-01|180940|    Kiruna Flygplats|\n",
      "|2583-V-001-004|19.176162986801845|           1.0|2006-04-05|163960|         Haparanda A|\n",
      "|2584-V-006-001|13.189955918046016|           0.9|2001-09-01|180940|    Kiruna Flygplats|\n",
      "|2581-V-001-002| 16.37541260928409|          0.66|1998-01-01|161710|     Pite-Rönnskär A|\n",
      "|2583-V-001-002| 19.18039956388569|           1.0|2006-04-05|163960|         Haparanda A|\n",
      "|2584-V-002-001|13.919928715426092|           0.9|2001-09-01|180940|    Kiruna Flygplats|\n",
      "|2482-V-008-001|12.648164773946029|           0.6|2003-10-01|151380|Skellefteå Flygplats|\n",
      "|2581-V-001-001|16.472486166173066|          0.66|1998-01-01|161710|     Pite-Rönnskär A|\n",
      "|2482-V-006-001|12.415604538042537|           0.6|2003-10-01|151380|Skellefteå Flygplats|\n",
      "+--------------+------------------+--------------+----------+------+--------------------+\n",
      "only showing top 20 rows\n",
      "\n"
     ]
    }
   ],
   "source": [
    "mapping_df = turbine_df.crossJoin(sites_df)\n",
    "\n",
    "# Calculate distance between each turbine and wind core site\n",
    "mapping_df = mapping_df.withColumn(\"distance(km)\", distance(mapping_df[\"E-Coordinate\"], mapping_df[\"N-Coordinate\"], mapping_df[\"Latitud\"], mapping_df[\"Longitud\"]))\n",
    "\n",
    "# Find the distance to the closes wind core site for each turbine\n",
    "min_distance_df = mapping_df.groupBy(\"Turbine-ID\").agg(min(col(\"distance(km)\")).alias(\"distance(km)\"))\n",
    "\n",
    "# Map each wind turbine to the closest wind core site\n",
    "mapping_df = mapping_df.join(min_distance_df, [\"Turbine-ID\", \"distance(km)\"], \"inner\").select(\"Turbine-ID\", \"distance(km)\", \"Maxeffect (MW)\", \"Built\", \"Id\", \"Name\")\n",
    "print(\"Number of turbines\", mapping_df.count())\n",
    "mapping_df.show()"
   ]
  },
  {
   "cell_type": "markdown",
   "metadata": {},
   "source": [
    "### Read wind speed data"
   ]
  },
  {
   "cell_type": "code",
   "execution_count": 164,
   "metadata": {},
   "outputs": [
    {
     "name": "stdout",
     "output_type": "stream",
     "text": [
      "+----------+-------------------+------+\n",
      "|wind_speed|          timestamp|    Id|\n",
      "+----------+-------------------+------+\n",
      "|       0.0|2020-01-01 00:00:00|149340|\n",
      "|       0.0|2020-01-01 01:00:00|149340|\n",
      "|       0.8|2020-01-01 02:00:00|149340|\n",
      "|       0.7|2020-01-01 03:00:00|149340|\n",
      "|       1.1|2020-01-01 04:00:00|149340|\n",
      "+----------+-------------------+------+\n",
      "only showing top 5 rows\n",
      "\n"
     ]
    }
   ],
   "source": [
    "# List to store individual DataFrames\n",
    "dataframes = []\n",
    "\n",
    "# Loop through all files in the folder\n",
    "for filename in os.listdir(\"data/weather_data_mean/\"):\n",
    "    if filename.endswith('.csv'):  # Assuming your files have a .csv extension\n",
    "        file_path = os.path.join(\"data/weather_data_mean/\", filename)\n",
    "\n",
    "        # Extract id from filename\n",
    "        parts = filename.split('_')\n",
    "        id = parts[3]\n",
    "\n",
    "        temp_df = spark.read.option(\"sep\", \";\").csv(file_path, header=True, inferSchema=True)\n",
    "\n",
    "        # Select necessary fields and format date and time\n",
    "        temp_df = temp_df.filter(year('Datum') >= 2020)\n",
    "        temp_df = temp_df.withColumn('timestamp', concat(col('Datum'), substring(col('Tid (UTC)').cast('string'), 11, 100)))\n",
    "        temp_df = temp_df.select(col(\"Vindhastighet\").alias(\"wind_speed\"), col(\"timestamp\"))\n",
    "        temp_df = temp_df.withColumn('Id', lit(id))\n",
    "        \n",
    "        dataframes.append(temp_df)\n",
    "\n",
    "# Concatenate the DataFrames\n",
    "wind_df = dataframes[0]  # Initialize with the first DataFrame\n",
    "for df in dataframes[1:]:\n",
    "    wind_df = wind_df.union(df)\n",
    "\n",
    "wind_df.show(n=5)"
   ]
  },
  {
   "cell_type": "markdown",
   "metadata": {},
   "source": [
    "### Merge wind speed data with wind turbine mapping data"
   ]
  },
  {
   "cell_type": "code",
   "execution_count": 159,
   "metadata": {},
   "outputs": [
    {
     "name": "stdout",
     "output_type": "stream",
     "text": [
      "+-------------------+-----------------------+\n",
      "|          timestamp|weighted_avg_wind_speed|\n",
      "+-------------------+-----------------------+\n",
      "|2020-01-16 08:00:00|      1.723809523809524|\n",
      "|2020-01-19 21:00:00|      2.638095238095238|\n",
      "|2020-01-24 00:00:00|     4.6380952380952385|\n",
      "|2020-01-26 15:00:00|     2.6142857142857143|\n",
      "|2020-01-27 03:00:00|     2.2142857142857144|\n",
      "|2020-01-28 10:00:00|     3.6380952380952385|\n",
      "|2020-02-22 09:00:00|      6.880952380952381|\n",
      "|2020-02-26 02:00:00|     2.4476190476190474|\n",
      "|2020-03-05 10:00:00|      3.685714285714286|\n",
      "|2020-03-12 02:00:00|     1.8476190476190475|\n",
      "|2020-03-15 22:00:00|                  4.195|\n",
      "|2020-03-25 20:00:00|                   6.65|\n",
      "|2020-04-07 06:00:00|     3.1476190476190475|\n",
      "|2020-04-10 10:00:00|      4.228571428571429|\n",
      "|2020-04-16 13:00:00|      4.266666666666667|\n",
      "|2020-04-17 20:00:00|      6.780952380952381|\n",
      "|2020-04-17 22:00:00|      6.485714285714285|\n",
      "|2020-04-25 21:00:00|      4.057142857142857|\n",
      "|2020-04-27 14:00:00|     2.9000000000000004|\n",
      "|2020-05-11 09:00:00|      4.486666666666667|\n",
      "+-------------------+-----------------------+\n",
      "only showing top 20 rows\n",
      "\n"
     ]
    }
   ],
   "source": [
    "# Join wind measurement data and wind turbine data\n",
    "data_df = mapping_df.join(wind_df, \"Id\", \"inner\")\n",
    "\n",
    "# For each timestamp filter out windturbines that were built on a later date\n",
    "data_df = data_df.filter(col(\"timestamp\")>col(\"Built\"))\n",
    "\n",
    "# Group by wind core site and timestamp counting the number of turbines mapped to it\n",
    "# (wind_speed will be the same for each row)\n",
    "data_df = data_df.groupBy(\"Id\", \"timestamp\").agg(\n",
    "    count(\"*\").alias(\"Turbines\"),\n",
    "    min(\"wind_speed\").alias(\"wind_speed\"),\n",
    ")\n",
    "\n",
    "# Group by timestamp calculating average windspeed across wind core sites\n",
    "# weighted by the number of turbines mapped to each wind core site\n",
    "data_df = data_df.groupBy(\"timestamp\").agg(\n",
    "     (sum(expr(\"wind_speed * Turbines\")) / sum(\"Turbines\")).alias(\"weighted_avg_wind_speed\")\n",
    ")\n",
    "\n",
    "data_df.show()"
   ]
  },
  {
   "cell_type": "markdown",
   "metadata": {},
   "source": []
  },
  {
   "cell_type": "code",
   "execution_count": 165,
   "metadata": {},
   "outputs": [
    {
     "name": "stdout",
     "output_type": "stream",
     "text": [
      "+-------------------------+-------------------+\n",
      "|Rolling Average 3h in MWh|timestamp          |\n",
      "+-------------------------+-------------------+\n",
      "|116.0                    |2021-01-01 01:00:00|\n",
      "|113.0                    |2021-01-01 02:00:00|\n",
      "|112.66666666666667       |2021-01-01 03:00:00|\n",
      "|118.66666666666667       |2021-01-01 04:00:00|\n",
      "|136.66666666666666       |2021-01-01 05:00:00|\n",
      "|164.66666666666666       |2021-01-01 06:00:00|\n",
      "|173.33333333333334       |2021-01-01 07:00:00|\n",
      "|174.66666666666666       |2021-01-01 08:00:00|\n",
      "|167.33333333333334       |2021-01-01 09:00:00|\n",
      "|166.66666666666666       |2021-01-01 10:00:00|\n",
      "|167.33333333333334       |2021-01-01 11:00:00|\n",
      "|161.66666666666666       |2021-01-01 12:00:00|\n",
      "|151.0                    |2021-01-01 13:00:00|\n",
      "|135.0                    |2021-01-01 14:00:00|\n",
      "|122.66666666666667       |2021-01-01 15:00:00|\n",
      "|120.66666666666667       |2021-01-01 16:00:00|\n",
      "|127.0                    |2021-01-01 17:00:00|\n",
      "|133.33333333333334       |2021-01-01 18:00:00|\n",
      "|132.0                    |2021-01-01 19:00:00|\n",
      "|124.33333333333333       |2021-01-01 20:00:00|\n",
      "+-------------------------+-------------------+\n",
      "only showing top 20 rows\n",
      "\n"
     ]
    }
   ],
   "source": [
    "def rollingAverage3h(file_path):\n",
    "    df = spark.read.csv(file_path, header=True, inferSchema=True).select(\"MTU\", \"Wind Onshore  - Actual Aggregated [MW]\")\n",
    "    \n",
    "    # just display the end time of the time frame\n",
    "    df_with_time = df.withColumn(\"End_Time\", regexp_extract(df[\"MTU\"], r\"(\\d{2}\\.\\d{2}\\.\\d{4} \\d{2}:\\d{2} \\(UTC\\))\", 1))\n",
    "    \n",
    "    # 3h sliding window average to adhere to wind measurements\n",
    "    windowSpec = Window.orderBy(\"End_Time\").rowsBetween(-2, 0)\n",
    "\n",
    "    df_with_avg = df_with_time.withColumn(\"Rolling Average 3h in MWh\", avg(\"Wind Onshore  - Actual Aggregated [MW]\").over(windowSpec))\n",
    "\n",
    "    # Select relevant fields\n",
    "    df_clean = df_with_avg.select(\n",
    "        col(\"End_Time\"), \n",
    "        col(\"Rolling Average 3h in MWh\")\n",
    "    )\n",
    "    \n",
    "    return df_clean\n",
    "\n",
    "df_average2021 = rollingAverage3h(\"data/production/SE1Onshore2021UTC.csv\")\n",
    "\n",
    "df_average2022 = rollingAverage3h(\"data/production/SE1Onshore2022UTC.csv\")\n",
    "\n",
    "# Join years into a single dataframe\n",
    "df_both_years = df_average2021.union(df_average2022)\n",
    "\n",
    "# format data and time to adhere to wind measurements fromatting\n",
    "df_both_years = df_both_years.withColumn(\"timestamp\",\n",
    "                   expr(\"concat(substring(End_Time, 7, 4),'-' ,substring(End_Time, 4, 2),'-', substring(End_Time, 1, 2), ' ', substring(End_Time, 12, 5), ':00')\")).select(\"Rolling Average 3h in MWh\", \"timestamp\")\n",
    "\n",
    "df_both_years.show(truncate=False)"
   ]
  },
  {
   "cell_type": "code",
   "execution_count": 166,
   "metadata": {},
   "outputs": [
    {
     "name": "stdout",
     "output_type": "stream",
     "text": [
      "+-------------------+-------------------------+-----------------------+\n",
      "|          timestamp|Rolling Average 3h in MWh|weighted_avg_wind_speed|\n",
      "+-------------------+-------------------------+-----------------------+\n",
      "|2021-01-02 13:00:00|       55.666666666666664|      2.280952380952381|\n",
      "|2021-01-22 15:00:00|        916.6666666666666|      6.742857142857143|\n",
      "|2021-01-23 19:00:00|        655.3333333333334|     3.7523809523809524|\n",
      "|2021-01-28 17:00:00|                    226.0|     2.1523809523809527|\n",
      "|2021-01-29 17:00:00|       128.33333333333334|     2.5285714285714285|\n",
      "|2021-02-12 03:00:00|       1016.3333333333334|      4.033333333333333|\n",
      "|2021-02-13 20:00:00|                    621.0|     2.9142857142857146|\n",
      "|2021-02-14 21:00:00|        536.6666666666666|     3.1809523809523808|\n",
      "|2021-02-15 19:00:00|        502.3333333333333|       3.08095238095238|\n",
      "|2021-02-16 15:00:00|       24.333333333333332|     2.1285714285714286|\n",
      "|2021-02-20 20:00:00|                    204.0|      4.319047619047619|\n",
      "|2021-02-21 18:00:00|       207.33333333333334|      4.004761904761905|\n",
      "|2021-02-23 22:00:00|       114.66666666666667|     1.3666666666666667|\n",
      "|2021-03-10 07:00:00|        735.3333333333334|     3.3238095238095235|\n",
      "|2021-03-28 17:00:00|                    326.0|     2.6047619047619044|\n",
      "|2021-04-08 02:00:00|        320.6666666666667|     2.2857142857142856|\n",
      "|2021-04-15 08:00:00|        968.3333333333334|      6.004761904761905|\n",
      "|2021-04-16 15:00:00|                     34.0|      2.738095238095238|\n",
      "|2021-04-22 21:00:00|       1000.6666666666666|      4.261904761904762|\n",
      "|2021-05-08 17:00:00|        399.3333333333333|      2.619047619047619|\n",
      "+-------------------+-------------------------+-----------------------+\n",
      "only showing top 20 rows\n",
      "\n"
     ]
    }
   ],
   "source": [
    "data_df = df_both_years.join(other=data_df, how=\"inner\", on=\"timestamp\")\n",
    "data_df.show()"
   ]
  },
  {
   "cell_type": "markdown",
   "metadata": {},
   "source": [
    "### Perform Analysis"
   ]
  },
  {
   "cell_type": "code",
   "execution_count": 167,
   "metadata": {},
   "outputs": [
    {
     "name": "stdout",
     "output_type": "stream",
     "text": [
      "Linear Correlation between wind and energy: 0.6790435768535638\n"
     ]
    }
   ],
   "source": [
    "\n",
    "correlation = data_df.corr(\"weighted_avg_wind_speed\", \"Rolling Average 3h in MWh\", method=\"pearson\")\n",
    "\n",
    "print(f\"Linear Correlation between wind and energy: {correlation}\")\n"
   ]
  },
  {
   "cell_type": "code",
   "execution_count": 168,
   "metadata": {},
   "outputs": [
    {
     "data": {
      "image/png": "[encoded data removed]",
      "text/plain": [
       "<Figure size 432x288 with 1 Axes>"
      ]
     },
     "metadata": {
      "needs_background": "light"
     },
     "output_type": "display_data"
    }
   ],
   "source": [
    "\n",
    "sample_df = data_df.select(\"weighted_avg_wind_speed\", \"Rolling Average 3h in MWh\").sample(False, 0.1, seed=1)\n",
    "# Convert the DataFrame to Pandas for plotting\n",
    "pandas_df = sample_df.select(\"weighted_avg_wind_speed\", \"Rolling Average 3h in MWh\").toPandas()\n",
    "\n",
    "# Create a scatter plot\n",
    "sns.regplot(x=pandas_df['weighted_avg_wind_speed'], y=pandas_df['Rolling Average 3h in MWh'], line_kws={\"color\": \"red\"})\n",
    "plt.xlabel('Wind')\n",
    "plt.ylabel('Energy')\n",
    "plt.title('Scatter Plot of Wind vs. Energy')\n",
    "plt.show()"
   ]
  }
 ],
 "metadata": {
  "kernelspec": {
   "display_name": "venv",
   "language": "python",
   "name": "python3"
  },
  "language_info": {
   "codemirror_mode": {
    "name": "ipython",
    "version": 3
   },
   "file_extension": ".py",
   "mimetype": "text/x-python",
   "name": "python",
   "nbconvert_exporter": "python",
   "pygments_lexer": "ipython3",
   "version": "3.7.16"
  },
  "orig_nbformat": 4
 },
 "nbformat": 4,
 "nbformat_minor": 2
}
