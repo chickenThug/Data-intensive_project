{
 "cells": [
  {
   "cell_type": "markdown",
   "metadata": {},
   "source": [
    "### Read data and import necessary libraries and functions"
   ]
  },
  {
   "cell_type": "code",
   "execution_count": 108,
   "metadata": {},
   "outputs": [
    {
     "name": "stdout",
     "output_type": "stream",
     "text": [
      "+------+---------------+-------+--------+--------+-----+\n",
      "|    Id|           Namn|Latitud|Longitud|Höjd (m)|Aktiv|\n",
      "+------+---------------+-------+--------+--------+-----+\n",
      "|154860|Abelvattnet Aut|  65.53|   14.97|   665.0|  Nej|\n",
      "|188790|     Abisko Aut|68.3538| 18.8164| 392.303|   Ja|\n",
      "|158990|         Abraur|65.9857| 18.9195| 368.079|  Nej|\n",
      "| 97280|       Adelsö A|59.3579| 17.5213|   5.612|   Ja|\n",
      "|117330|            Agö|  61.55| 17.4666|    20.0|  Nej|\n",
      "+------+---------------+-------+--------+--------+-----+\n",
      "only showing top 5 rows\n",
      "\n",
      "+--------------+----------+-------------------+-------------------+--------------------+-----------+--------------+----+---------------+------------+------+--------------------------+-----------------------+-----------------+---------------------+----------+-------------+----------+-----------+-----------+------------+-------------+-----------+-----------------+--------------+----------------------------+------------+--------------+--------------------+----------+-----------+--------+------+-------------+\n",
      "|       Verk-ID|Områdes-ID|Projekteringsområde|Organisationsnummer|  Verksamhetsutövare|     Status|  Handlingstyp| DNR|Inlämningsdatum|Beslutsdatum|Utfall|Överklagan inlämningsdatum|Överklagan beslutsdatum|Överklagan utfall|Återkallat av sökande|Laga kraft|Nätkoncession| Placering|N-Koordinat|E-Koordinat|Markhöjd (m)|Totalhöjd (m)|Navhöjd (m)|Rotordiameter (m)|Maxeffekt (MW)|Beräknad årsproduktion (GWh)|      Kommun|           Län|            Elområde|   Uppfört|Nedmonterat|Fabrikat|Modell|Senast sparad|\n",
      "+--------------+----------+-------------------+-------------------+--------------------+-----------+--------------+----+---------------+------------+------+--------------------------+-----------------------+-----------------+---------------------+----------+-------------+----------+-----------+-----------+------------+-------------+-----------+-----------------+--------------+----------------------------+------------+--------------+--------------------+----------+-----------+--------+------+-------------+\n",
      "|0117-V-004-001|0117-V-004|             Östanå|        999999-9999|Projektör ej regi...|    Uppfört|Uppgift saknas|NULL|           NULL|        NULL|  NULL|                      NULL|                   NULL|             NULL|                 NULL|      NULL|         NULL|Land      |  6608791.7|   704443.5|       20.72|           39|         30|               17|          0.09|                         0.1|   Österåker|Stockholms län|Stockholm           |2009-12-23|       NULL|    NULL|  NULL|         NULL|\n",
      "|0136-V-001-001|0136-V-001|                Utö|        556794-5935|       Lärbro SPW AB|Nedmonterat|Uppgift saknas|NULL|           NULL|        NULL|  NULL|                      NULL|                   NULL|             NULL|                 NULL|      NULL|         NULL|      Land| 6539904.29|  686876.11|        6.42|         NULL|         30|               27|          0.22|                        0.49|     Haninge|Stockholms län|Stockholm           |1992-10-01|       2015|  Vestas|  VE27|   2023-04-21|\n",
      "|0139-V-001-001|0139-V-001|    Nyborg Ryggåsen|        999999-9999|Projektör ej regi...|    Uppfört|Uppgift saknas|NULL|           NULL|        NULL|  NULL|                      NULL|                   NULL|             NULL|                 NULL|      NULL|         NULL|      Land| 6613404.83|   643468.1|       16.42|         NULL|       NULL|             NULL|          NULL|                        NULL|Upplands-Bro|Stockholms län|Stockholm           |1899-12-31|       NULL|    NULL|  NULL|   2019-02-15|\n",
      "|0181-V-001-001|0181-V-001|               NULL|        556558-1757|        Telge Nät AB|Nedmonterat|Uppgift saknas|NULL|           NULL|        NULL|  NULL|                      NULL|                   NULL|             NULL|                 NULL|      NULL|         NULL|      Land| 6540302.39|  655971.17|       34.52|         NULL|       NULL|             NULL|          NULL|                        NULL|  Södertälje|Stockholms län|Stockholm           |1899-12-31|       2015|    NULL|  NULL|   2023-04-21|\n",
      "|0188-V-001-001|0188-V-001|             Björkö|        556558-1757|        Telge Nät AB|    Uppfört|Uppgift saknas|NULL|           NULL|        NULL|  NULL|                      NULL|                   NULL|             NULL|                 NULL|      NULL|         NULL|      Land| 6647483.43|  719672.78|       16.34|           99|         73|               52|          0.85|                         1.6|   Norrtälje|Stockholms län|Stockholm           |2011-03-11|       NULL| Enercon|   E52|   2019-02-25|\n",
      "+--------------+----------+-------------------+-------------------+--------------------+-----------+--------------+----+---------------+------------+------+--------------------------+-----------------------+-----------------+---------------------+----------+-------------+----------+-----------+-----------+------------+-------------+-----------+-----------------+--------------+----------------------------+------------+--------------+--------------------+----------+-----------+--------+------+-------------+\n",
      "only showing top 5 rows\n",
      "\n"
     ]
    }
   ],
   "source": [
    "# Import necessary functionality\n",
    "from pyspark.sql import SparkSession\n",
    "from pyspark.sql.functions import col, regexp_replace, udf, cos, radians, sin, sqrt, atan2, year, concat, substring, lit, avg, regexp_extract, expr\n",
    "from pyspark.sql.window import Window\n",
    "from pyspark.sql.types import FloatType\n",
    "import matplotlib.pyplot as plt\n",
    "import seaborn as sns\n",
    "import math\n",
    "import os\n",
    "\n",
    "# Create a SparkSession\n",
    "spark = SparkSession.builder.appName(\"WindEnergy\").getOrCreate()\n",
    "\n",
    "# Read wind core sites data\n",
    "df = spark.read.option(\"sep\", \";\").csv(\"data/metobs_wind_core_sites.csv\", header=True, inferSchema=True)\n",
    "\n",
    "# Read wind turbine data\n",
    "df_2 = spark.read.option(\"sep\", \",\").csv(\"data/VBK_export_allman_prod - Vindkraftverk.csv\", header=True, inferSchema=True)\n",
    "\n",
    "df.show(n=5)\n",
    "df_2.show(n=5)\n"
   ]
  },
  {
   "cell_type": "markdown",
   "metadata": {},
   "source": [
    "### Define helper functions"
   ]
  },
  {
   "cell_type": "code",
   "execution_count": 109,
   "metadata": {},
   "outputs": [],
   "source": [
    "# Function for transformation sweref99 tm to longitude and latitude coordinates\n",
    "def sweref99_to_latlon(E, N):\n",
    "    # Constants for SWEREF99 TM projection\n",
    "    E0 = 500000  # False Easting in meters\n",
    "    N0 = 0       # False Northing in meters\n",
    "    F0 = 0.9996  # Scale factor at central meridian\n",
    "    lo0 = math.radians(15)  # Central meridian in radians\n",
    "    a = 6378137.0  # Semi-major axis of WGS 84 ellipsoid in meters\n",
    "    la0 = 0  # Latitude of projection origin in radians\n",
    "\n",
    "    # Convert\n",
    "    lat = la0 + (N - N0) / (a * F0)\n",
    "    long = lo0 + (E - E0) / (a * F0 * cos(lat))\n",
    "\n",
    "    return lat, long\n",
    "\n",
    "# Calculate distance between points (E, N) and (lat, long)\n",
    "def distance(E, N, lat, long):\n",
    "\n",
    "    # Convert E-kooridnat and N-kooridnat to (lat1, lon1)\n",
    "    lat1, lon1 = sweref99_to_latlon(E, N)\n",
    "    \n",
    "    # Convert to radians\n",
    "    lat2 = radians(lat)\n",
    "    lon2 = radians(long)\n",
    "    \n",
    "    # Haversine formula\n",
    "    dlon = lon2 - lon1\n",
    "    dlat = lat2 - lat1\n",
    "    \n",
    "    a = sin(dlat/2)**2 + cos(lat1) * cos(lat2) * sin(dlon/2)**2\n",
    "    c = 2 * atan2(sqrt(a), sqrt(1-a))\n",
    "    \n",
    "    # Radius of the Earth in kilometers (mean value)\n",
    "    radius_earth = 6371.0\n",
    "    \n",
    "    # Calculate the distance\n",
    "    distance = radius_earth * c\n",
    "    \n",
    "    return distance\n",
    "\n",
    "distance_udf = udf(distance, FloatType())"
   ]
  },
  {
   "cell_type": "markdown",
   "metadata": {},
   "source": [
    "### Clean data and map turbine to closest wind core site"
   ]
  },
  {
   "cell_type": "code",
   "execution_count": 110,
   "metadata": {},
   "outputs": [
    {
     "name": "stdout",
     "output_type": "stream",
     "text": [
      "+------+----------------------+------------------+--------+\n",
      "|Id    |Namn                  |avg distance      |turbines|\n",
      "+------+----------------------+------------------+--------+\n",
      "|140460|Holmön A              |31.593722317795642|7       |\n",
      "|140480|Umeå Flygplats        |40.71140988554128 |25      |\n",
      "|149340|Petisträsk A          |31.695296320914863|27      |\n",
      "|149560|Norsjö A              |27.311162906168107|67      |\n",
      "|151380|Skellefteå Flygplats  |20.60428277675917 |4       |\n",
      "|157870|Buresjön A            |26.160925654400817|7       |\n",
      "|158740|Malå-Brännan A        |21.49654244211856 |41      |\n",
      "|159880|Arvidsjaur A          |46.30123260037012 |16      |\n",
      "|161710|Pite-Rönnskär A       |39.674710253650446|210     |\n",
      "|161910|Älvsbyn A             |44.27760914653739 |206     |\n",
      "|162860|Luleå-Kallax Flygplats|16.62211951817588 |1       |\n",
      "|163900|Storön A              |9.099583528119986 |4       |\n",
      "|163960|Haparanda A           |19.251840822187297|5       |\n",
      "|172940|Paharova A            |22.443951471437487|24      |\n",
      "|173900|Ylinenjärvi A         |29.15759586214368 |13      |\n",
      "|178860|Stora Sjöfallet A     |17.731144425269992|1       |\n",
      "|180770|Latnivaara A          |27.043968215212942|30      |\n",
      "|180940|Kiruna Flygplats      |13.56304612193093 |6       |\n",
      "|182810|Saittarova A          |27.596040169731793|14      |\n",
      "|183750|Pajala A              |29.70667891055326 |6       |\n",
      "+------+----------------------+------------------+--------+\n",
      "\n"
     ]
    }
   ],
   "source": [
    "# Clean uneccesary spaces after Elområde (Electricity zone)\n",
    "df_2 = df_2.withColumn(\"Elområde\", regexp_replace(col(\"Elområde\"), \"\\\\s+\", \"\"))\n",
    "\n",
    "# Filter out turbines:\n",
    "#    not on land, \n",
    "#    not mounted and \n",
    "#    not in Elområde 1\n",
    "\n",
    "df_2 = df_2.filter((col(\"Status\") == \"Uppfört\") & (col(\"Placering\") == \"Land\") & (col(\"Elområde\") == \"Luleå\"))\n",
    "\n",
    "# Make life easier\n",
    "df_2.createOrReplaceTempView(\"df2\")\n",
    "\n",
    "# Get relevant fields\n",
    "df_2 = spark.sql(\"SELECT `Verk-ID`, `E-koordinat`, `N-koordinat`, `Uppfört`, `Maxeffekt (MW)` FROM df2\")\n",
    "\n",
    "# Join tables ignoring no longer active wind core sites\n",
    "df_2 = df_2.crossJoin(df.filter((col(\"Aktiv\") == \"Ja\")))\n",
    "\n",
    "# Add column that calculate distance between all turbines and wind core sites\n",
    "df_final = df_2.withColumn(\"distance (km)\", distance(df_2[\"E-koordinat\"], df_2[\"N-koordinat\"], df_2[\"Latitud\"], df_2[\"Longitud\"]))\n",
    "\n",
    "df_final.createOrReplaceTempView(\"dfinal\")\n",
    "# Select the closest wind core site for each wind turbine (defined by Verk-ID)\n",
    "df_final = spark.sql(\"SELECT * FROM dfinal WHERE `distance (km)` IN (SELECT MIN(`distance (km)`) FROM dfinal GROUP BY `Verk-ID`)\")\n",
    "\n",
    "\n",
    "df_final.createOrReplaceTempView(\"dfinal\")\n",
    "# Find needed wind core sites\n",
    "temp = spark.sql(\"SELECT Id, Namn, AVG(`distance (km)`) as `avg distance`, COUNT(Namn) as turbines FROM dfinal GROUP BY Namn, Id ORDER BY Id\")\n",
    "\n",
    "temp.show(n=50, truncate=False)"
   ]
  },
  {
   "cell_type": "code",
   "execution_count": 111,
   "metadata": {},
   "outputs": [
    {
     "name": "stdout",
     "output_type": "stream",
     "text": [
      "+-------------------+-------------------+\n",
      "|          timestamp|weighted_wind_speed|\n",
      "+-------------------+-------------------+\n",
      "|2020-01-01 00:00:00| 2.0714285714285716|\n",
      "|2020-01-01 01:00:00|  2.270728291316527|\n",
      "|2020-01-01 02:00:00|  2.238515406162465|\n",
      "|2020-01-01 03:00:00|  2.212605042016807|\n",
      "|2020-01-01 04:00:00| 2.8487394957983194|\n",
      "|2020-01-01 05:00:00|  3.242436974789916|\n",
      "|2020-01-01 06:00:00| 3.8330532212885156|\n",
      "|2020-01-01 07:00:00|  4.528011204481793|\n",
      "|2020-01-01 08:00:00|  4.128851540616247|\n",
      "|2020-01-01 09:00:00|  3.676190476190476|\n",
      "|2020-01-01 10:00:00| 3.6389355742296923|\n",
      "|2020-01-01 11:00:00|  3.963725490196078|\n",
      "|2020-01-01 12:00:00| 3.4980392156862745|\n",
      "|2020-01-01 13:00:00| 3.8365546218487396|\n",
      "|2020-01-01 14:00:00| 3.6029411764705883|\n",
      "|2020-01-01 15:00:00|  4.679411764705882|\n",
      "|2020-01-01 16:00:00| 3.3274509803921566|\n",
      "|2020-01-01 17:00:00|  4.607563025210084|\n",
      "|2020-01-01 18:00:00|  6.075070028011205|\n",
      "|2020-01-01 19:00:00|   6.03641456582633|\n",
      "+-------------------+-------------------+\n",
      "only showing top 20 rows\n",
      "\n"
     ]
    }
   ],
   "source": [
    "# List to store individual DataFrames\n",
    "dataframes = []\n",
    "\n",
    "# Loop through all files in the folder\n",
    "for filename in os.listdir(\"data/weather_data_mean/\"):\n",
    "    if filename.endswith('.csv'):  # Assuming your files have a .csv extension\n",
    "        file_path = os.path.join(\"data/weather_data_mean/\", filename)\n",
    "        parts = filename.split('_')\n",
    "        id = parts[3]\n",
    "        df = spark.read.option(\"sep\", \";\").csv(file_path, header=True, inferSchema=True)\n",
    "        df = df.filter(year('Datum') >= 2020)\n",
    "        df = df.withColumn('timestamp', concat(col('Datum'), substring(col('Tid (UTC)').cast('string'), 11, 100)))\n",
    "\n",
    "        df = df.drop(*[\"Datum\", \"Tid (UTC)\", \"Vindriktning\", \"Kvalitet3\", \"Kvalitet5\", \"_c6\", \"Tidsutsnitt:\"])\n",
    "        df = df.withColumn('Id', lit(id))\n",
    "        \n",
    "        dataframes.append(df)\n",
    "\n",
    "# Concatenate the DataFrames\n",
    "concatenated_df = dataframes[0]  # Initialize with the first DataFrame\n",
    "for df in dataframes[1:]:\n",
    "    concatenated_df = concatenated_df.union(df)\n",
    "\n",
    "result_df = concatenated_df.join(temp, \"Id\", \"inner\")\n",
    "\n",
    "result_df.createOrReplaceTempView(\"result_df\")\n",
    "\n",
    "result_df = spark.sql(\"SELECT timestamp, SUM(Vindhastighet*turbines)/SUM(turbines) as weighted_wind_speed FROM result_df GROUP BY timestamp ORDER BY timestamp\")\n",
    "# Show the result DataFrame\n",
    "result_df.show()"
   ]
  },
  {
   "cell_type": "code",
   "execution_count": 112,
   "metadata": {},
   "outputs": [
    {
     "name": "stdout",
     "output_type": "stream",
     "text": [
      "+----------------------+-------------------------+-------------------+\n",
      "|End_Time              |Rolling Average 3h in MWh|timestamp          |\n",
      "+----------------------+-------------------------+-------------------+\n",
      "|01.01.2021 01:00 (UTC)|116.0                    |2021-01-01 01:00:00|\n",
      "|01.01.2021 02:00 (UTC)|113.0                    |2021-01-01 02:00:00|\n",
      "|01.01.2021 03:00 (UTC)|112.66666666666667       |2021-01-01 03:00:00|\n",
      "|01.01.2021 04:00 (UTC)|118.66666666666667       |2021-01-01 04:00:00|\n",
      "|01.01.2021 05:00 (UTC)|136.66666666666666       |2021-01-01 05:00:00|\n",
      "|01.01.2021 06:00 (UTC)|164.66666666666666       |2021-01-01 06:00:00|\n",
      "|01.01.2021 07:00 (UTC)|173.33333333333334       |2021-01-01 07:00:00|\n",
      "|01.01.2021 08:00 (UTC)|174.66666666666666       |2021-01-01 08:00:00|\n",
      "|01.01.2021 09:00 (UTC)|167.33333333333334       |2021-01-01 09:00:00|\n",
      "|01.01.2021 10:00 (UTC)|166.66666666666666       |2021-01-01 10:00:00|\n",
      "|01.01.2021 11:00 (UTC)|167.33333333333334       |2021-01-01 11:00:00|\n",
      "|01.01.2021 12:00 (UTC)|161.66666666666666       |2021-01-01 12:00:00|\n",
      "|01.01.2021 13:00 (UTC)|151.0                    |2021-01-01 13:00:00|\n",
      "|01.01.2021 14:00 (UTC)|135.0                    |2021-01-01 14:00:00|\n",
      "|01.01.2021 15:00 (UTC)|122.66666666666667       |2021-01-01 15:00:00|\n",
      "|01.01.2021 16:00 (UTC)|120.66666666666667       |2021-01-01 16:00:00|\n",
      "|01.01.2021 17:00 (UTC)|127.0                    |2021-01-01 17:00:00|\n",
      "|01.01.2021 18:00 (UTC)|133.33333333333334       |2021-01-01 18:00:00|\n",
      "|01.01.2021 19:00 (UTC)|132.0                    |2021-01-01 19:00:00|\n",
      "|01.01.2021 20:00 (UTC)|124.33333333333333       |2021-01-01 20:00:00|\n",
      "+----------------------+-------------------------+-------------------+\n",
      "only showing top 20 rows\n",
      "\n"
     ]
    }
   ],
   "source": [
    "def rollingAverage3h(file_path):\n",
    "    df = spark.read.csv(file_path, header=True, inferSchema=True).select(\"MTU\", \"Wind Onshore  - Actual Aggregated [MW]\")\n",
    "    \n",
    "    # just display the end time of the time frame\n",
    "    df_with_time = df.withColumn(\"End_Time\", regexp_extract(df[\"MTU\"], r\"(\\d{2}\\.\\d{2}\\.\\d{4} \\d{2}:\\d{2} \\(UTC\\))\", 1))\n",
    "    \n",
    "    # 3h sliding window average\n",
    "    windowSpec = Window.orderBy(\"End_Time\").rowsBetween(-2, 0)\n",
    "\n",
    "    df_with_avg = df_with_time.withColumn(\"Rolling Average 3h in MWh\", avg(\"Wind Onshore  - Actual Aggregated [MW]\").over(windowSpec))\n",
    "\n",
    "    df_clean = df_with_avg.select(\n",
    "        col(\"End_Time\"), \n",
    "        col(\"Rolling Average 3h in MWh\")\n",
    "    )\n",
    "    \n",
    "    return df_clean\n",
    "\n",
    "df_average2021 = rollingAverage3h(\"data/production/SE1Onshore2021UTC.csv\")\n",
    "\n",
    "df_average2022 = rollingAverage3h(\"data/production/SE1Onshore2022UTC.csv\")\n",
    "\n",
    "df_both_years = df_average2021.union(df_average2022)\n",
    "\n",
    "df_both_years = df_both_years.withColumn(\"timestamp\",\n",
    "                   expr(\"concat(substring(End_Time, 7, 4),'-' ,substring(End_Time, 4, 2),'-', substring(End_Time, 1, 2), ' ', substring(End_Time, 12, 5), ':00')\"))\n",
    "\n",
    "df_both_years.show(truncate=False)"
   ]
  },
  {
   "cell_type": "code",
   "execution_count": 113,
   "metadata": {},
   "outputs": [
    {
     "name": "stdout",
     "output_type": "stream",
     "text": [
      "+-------------------+--------------------+-------------------------+-------------------+\n",
      "|          timestamp|            End_Time|Rolling Average 3h in MWh|weighted_wind_speed|\n",
      "+-------------------+--------------------+-------------------------+-------------------+\n",
      "|2021-01-02 13:00:00|02.01.2021 13:00 ...|       55.666666666666664| 1.5826025459688828|\n",
      "|2021-01-22 15:00:00|22.01.2021 15:00 ...|        916.6666666666666|  7.550980392156863|\n",
      "|2021-01-23 19:00:00|23.01.2021 19:00 ...|        655.3333333333334| 3.9114845938375353|\n",
      "|2021-01-28 17:00:00|28.01.2021 17:00 ...|                    226.0| 2.4310924369747897|\n",
      "|2021-01-29 17:00:00|29.01.2021 17:00 ...|       128.33333333333334| 1.2669467787114845|\n",
      "|2021-02-12 03:00:00|12.02.2021 03:00 ...|       1016.3333333333334|  2.553081232492997|\n",
      "|2021-02-13 20:00:00|13.02.2021 20:00 ...|                    621.0| 1.7920168067226891|\n",
      "|2021-02-14 21:00:00|14.02.2021 21:00 ...|        536.6666666666666| 1.3747899159663866|\n",
      "|2021-02-15 19:00:00|15.02.2021 19:00 ...|        502.3333333333333|  2.078011204481793|\n",
      "|2021-02-16 15:00:00|16.02.2021 15:00 ...|       24.333333333333332|  1.504201680672269|\n",
      "|2021-02-20 20:00:00|20.02.2021 20:00 ...|                    204.0|  3.935434173669468|\n",
      "|2021-02-21 18:00:00|21.02.2021 18:00 ...|       207.33333333333334| 2.8030812324929975|\n",
      "|2021-02-23 22:00:00|23.02.2021 22:00 ...|       114.66666666666667|  1.165266106442577|\n",
      "|2021-03-10 07:00:00|10.03.2021 07:00 ...|        735.3333333333334| 0.9917366946778711|\n",
      "|2021-03-28 17:00:00|28.03.2021 17:00 ...|                    326.0|  3.722268907563025|\n",
      "|2021-04-08 02:00:00|08.04.2021 02:00 ...|        320.6666666666667| 1.3121848739495798|\n",
      "|2021-04-15 08:00:00|15.04.2021 08:00 ...|        968.3333333333334| 3.7680672268907562|\n",
      "|2021-04-16 15:00:00|16.04.2021 15:00 ...|                     34.0|  1.157563025210084|\n",
      "|2021-04-22 21:00:00|22.04.2021 21:00 ...|       1000.6666666666666|  4.754341736694678|\n",
      "|2021-05-08 17:00:00|08.05.2021 17:00 ...|        399.3333333333333| 3.4703081232492994|\n",
      "+-------------------+--------------------+-------------------------+-------------------+\n",
      "only showing top 20 rows\n",
      "\n"
     ]
    }
   ],
   "source": [
    "joined = df_both_years.join(other=result_df, how=\"inner\", on=\"timestamp\")\n",
    "joined.show()"
   ]
  },
  {
   "cell_type": "code",
   "execution_count": 114,
   "metadata": {},
   "outputs": [
    {
     "name": "stdout",
     "output_type": "stream",
     "text": [
      "Linear Correlation between wind and energy: 0.6111115405679827\n"
     ]
    }
   ],
   "source": [
    "\n",
    "correlation = joined.corr(\"weighted_wind_speed\", \"Rolling Average 3h in MWh\", method=\"pearson\")\n",
    "\n",
    "print(f\"Linear Correlation between wind and energy: {correlation}\")\n"
   ]
  },
  {
   "cell_type": "code",
   "execution_count": 117,
   "metadata": {},
   "outputs": [
    {
     "data": {
      "image/png": "[encoded data removed]",
      "text/plain": [
       "<Figure size 432x288 with 1 Axes>"
      ]
     },
     "metadata": {
      "needs_background": "light"
     },
     "output_type": "display_data"
    }
   ],
   "source": [
    "\n",
    "sample_df = joined.select(\"weighted_wind_speed\", \"Rolling Average 3h in MWh\").sample(False, 0.1, seed=1)\n",
    "# Convert the DataFrame to Pandas for plotting\n",
    "pandas_df = sample_df.select(\"weighted_wind_speed\", \"Rolling Average 3h in MWh\").toPandas()\n",
    "\n",
    "# Create a scatter plot\n",
    "sns.regplot(x=pandas_df['weighted_wind_speed'], y=pandas_df['Rolling Average 3h in MWh'], line_kws={\"color\": \"red\"})\n",
    "plt.xlabel('Wind')\n",
    "plt.ylabel('Energy')\n",
    "plt.title('Scatter Plot of Wind vs. Energy')\n",
    "plt.show()"
   ]
  }
 ],
 "metadata": {
  "kernelspec": {
   "display_name": "venv",
   "language": "python",
   "name": "python3"
  },
  "language_info": {
   "codemirror_mode": {
    "name": "ipython",
    "version": 3
   },
   "file_extension": ".py",
   "mimetype": "text/x-python",
   "name": "python",
   "nbconvert_exporter": "python",
   "pygments_lexer": "ipython3",
   "version": "3.7.16"
  },
  "orig_nbformat": 4
 },
 "nbformat": 4,
 "nbformat_minor": 2
}
