{
 "cells": [
  {
   "cell_type": "code",
   "execution_count": 2,
   "metadata": {},
   "outputs": [
    {
     "name": "stdout",
     "output_type": "stream",
     "text": [
      "+--------------------+--------------------------------------+\n",
      "|                 MTU|Wind Onshore  - Actual Aggregated [MW]|\n",
      "+--------------------+--------------------------------------+\n",
      "|01.01.2021 00:00 ...|                                   355|\n",
      "|01.01.2021 01:00 ...|                                   330|\n",
      "|01.01.2021 02:00 ...|                                   301|\n",
      "|01.01.2021 03:00 ...|                                   279|\n",
      "|01.01.2021 04:00 ...|                                   272|\n",
      "|01.01.2021 05:00 ...|                                   268|\n",
      "|01.01.2021 06:00 ...|                                   270|\n",
      "|01.01.2021 07:00 ...|                                   264|\n",
      "|01.01.2021 08:00 ...|                                   266|\n",
      "|01.01.2021 09:00 ...|                                   261|\n",
      "|01.01.2021 10:00 ...|                                   238|\n",
      "|01.01.2021 11:00 ...|                                   205|\n",
      "|01.01.2021 12:00 ...|                                   161|\n",
      "|01.01.2021 13:00 ...|                                   155|\n",
      "|01.01.2021 14:00 ...|                                   156|\n",
      "|01.01.2021 15:00 ...|                                   170|\n",
      "|01.01.2021 16:00 ...|                                   187|\n",
      "|01.01.2021 17:00 ...|                                   195|\n",
      "|01.01.2021 18:00 ...|                                   191|\n",
      "|01.01.2021 19:00 ...|                                   190|\n",
      "+--------------------+--------------------------------------+\n",
      "only showing top 20 rows\n",
      "\n"
     ]
    }
   ],
   "source": [
    "# Importieren Sie notwendige Bibliotheken\n",
    "from pyspark.sql import SparkSession\n",
    "\n",
    "\n",
    "# Erstellen Sie eine SparkSession\n",
    "spark = SparkSession.builder \\\n",
    "    .appName(\"CSV Reader in Jupyter\") \\\n",
    "    .getOrCreate()\n",
    "\n",
    "# Lesen Sie die CSV-Datei\n",
    "df_1_21 = spark.read.csv(\"Data/SE1Onshore2021.csv\", header=True, inferSchema=True)\n",
    "df_2_21 = spark.read.csv(\"Data/SE2Onshore2021.csv\", header=True, inferSchema=True)\n",
    "df_3_21 = spark.read.csv(\"Data/SE3Onshore2021.csv\", header=True, inferSchema=True)\n",
    "df_4_21 = spark.read.csv(\"Data/SE4Onshore2021.csv\", header=True, inferSchema=True)\n",
    "\n",
    "# Selektieren Sie die gewünschten Spalten\n",
    "selected_df = df_3_21.select(\"MTU\", \"Wind Onshore  - Actual Aggregated [MW]\")\n",
    "\n",
    "# Zeigen Sie die ersten Zeilen des DataFrames an\n",
    "selected_df.show()\n"
   ]
  },
  {
   "cell_type": "code",
   "execution_count": 6,
   "metadata": {},
   "outputs": [
    {
     "name": "stdout",
     "output_type": "stream",
     "text": [
      "Total wind production in 2021 in TWh: 26.668733\n"
     ]
    }
   ],
   "source": [
    "from pyspark.sql import functions as F\n",
    "\n",
    "# Summieren Sie die Werte in der Spalte und speichern Sie das Ergebnis in aggEntsoe\n",
    "aggEntsoe1 = df_1_21.agg(F.sum(\"Wind Onshore  - Actual Aggregated [MW]\").alias(\"Total Wind Onshore [MW]\")).collect()[0][0]\n",
    "aggEntsoe2 = df_2_21.agg(F.sum(\"Wind Onshore  - Actual Aggregated [MW]\").alias(\"Total Wind Onshore [MW]\")).collect()[0][0]\n",
    "aggEntsoe3 = df_3_21.agg(F.sum(\"Wind Onshore  - Actual Aggregated [MW]\").alias(\"Total Wind Onshore [MW]\")).collect()[0][0]\n",
    "aggEntsoe4 = df_4_21.agg(F.sum(\"Wind Onshore  - Actual Aggregated [MW]\").alias(\"Total Wind Onshore [MW]\")).collect()[0][0]\n",
    "\n",
    "aggEntsoeTotal= (aggEntsoe1+aggEntsoe2+aggEntsoe3+aggEntsoe4)/1000000\n",
    "\n",
    "#TODO: link other source and make percentage on how good we are\n",
    "\n",
    "# Anzeigen des Wertes von aggEntsoe\n",
    "print(f\"Total wind production in 2021 in TWh: {aggEntsoeTotal}\")\n",
    "print()\n",
    "\n"
   ]
  }
 ],
 "metadata": {
  "kernelspec": {
   "display_name": "base",
   "language": "python",
   "name": "python3"
  },
  "language_info": {
   "codemirror_mode": {
    "name": "ipython",
    "version": 3
   },
   "file_extension": ".py",
   "mimetype": "text/x-python",
   "name": "python",
   "nbconvert_exporter": "python",
   "pygments_lexer": "ipython3",
   "version": "3.11.4"
  },
  "orig_nbformat": 4
 },
 "nbformat": 4,
 "nbformat_minor": 2
}
